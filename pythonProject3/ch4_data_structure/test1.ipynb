{
 "cells": [
  {
   "cell_type": "code",
   "id": "initial_id",
   "metadata": {
    "collapsed": true,
    "ExecuteTime": {
     "end_time": "2024-07-18T03:04:18.505997Z",
     "start_time": "2024-07-18T03:04:18.501789Z"
    }
   },
   "source": [
    "today_lunch_menu = {\"menu1\":\"된장찌개\",\"menu2\":\"도시락\",\"menu3\":\"참깨라면\"}\n",
    "print(today_lunch_menu)"
   ],
   "outputs": [
    {
     "name": "stdout",
     "output_type": "stream",
     "text": [
      "{'menu1': '된장찌개', 'menu2': '도시락', 'menu3': '참깨라면'}\n"
     ]
    }
   ],
   "execution_count": 15
  },
  {
   "metadata": {
    "ExecuteTime": {
     "end_time": "2024-07-18T03:04:18.510973Z",
     "start_time": "2024-07-18T03:04:18.506999Z"
    }
   },
   "cell_type": "code",
   "source": [
    "for k, v in today_lunch_menu.items():\n",
    "    print(f\"k(키) : {k}, v값 : {v}\")"
   ],
   "id": "a96152a52fbea34f",
   "outputs": [
    {
     "name": "stdout",
     "output_type": "stream",
     "text": [
      "k(키) : menu1, v값 : 된장찌개\n",
      "k(키) : menu2, v값 : 도시락\n",
      "k(키) : menu3, v값 : 참깨라면\n"
     ]
    }
   ],
   "execution_count": 16
  },
  {
   "metadata": {
    "ExecuteTime": {
     "end_time": "2024-07-18T03:04:18.519197Z",
     "start_time": "2024-07-18T03:04:18.513969Z"
    }
   },
   "cell_type": "code",
   "source": "'도시락' in  today_lunch_menu.values()",
   "id": "60eb4c1f44f84d09",
   "outputs": [
    {
     "data": {
      "text/plain": [
       "True"
      ]
     },
     "execution_count": 17,
     "metadata": {},
     "output_type": "execute_result"
    }
   ],
   "execution_count": 17
  },
  {
   "metadata": {
    "ExecuteTime": {
     "end_time": "2024-07-18T03:04:18.528205Z",
     "start_time": "2024-07-18T03:04:18.524187Z"
    }
   },
   "cell_type": "code",
   "source": [
    "from collections import deque\n",
    "deque_list = deque()\n",
    "for i in range(5):\n",
    "    deque_list.appendleft(i)\n",
    "print(deque_list)"
   ],
   "id": "9887785258c6c8a7",
   "outputs": [
    {
     "name": "stdout",
     "output_type": "stream",
     "text": [
      "deque([4, 3, 2, 1, 0])\n"
     ]
    }
   ],
   "execution_count": 18
  },
  {
   "metadata": {
    "ExecuteTime": {
     "end_time": "2024-07-18T03:04:18.544401Z",
     "start_time": "2024-07-18T03:04:18.541174Z"
    }
   },
   "cell_type": "code",
   "source": [
    "deque_list.rotate(1)\n",
    "print(deque_list)"
   ],
   "id": "2b747ac46a43448b",
   "outputs": [
    {
     "name": "stdout",
     "output_type": "stream",
     "text": [
      "deque([0, 4, 3, 2, 1])\n"
     ]
    }
   ],
   "execution_count": 19
  },
  {
   "metadata": {
    "ExecuteTime": {
     "end_time": "2024-07-18T03:04:18.548798Z",
     "start_time": "2024-07-18T03:04:18.545402Z"
    }
   },
   "cell_type": "code",
   "source": [
    "deque_list.rotate(1)\n",
    "print(deque_list)"
   ],
   "id": "d7abc851af731b7a",
   "outputs": [
    {
     "name": "stdout",
     "output_type": "stream",
     "text": [
      "deque([1, 0, 4, 3, 2])\n"
     ]
    }
   ],
   "execution_count": 20
  },
  {
   "metadata": {
    "ExecuteTime": {
     "end_time": "2024-07-18T03:04:27.913697Z",
     "start_time": "2024-07-18T03:04:27.906335Z"
    }
   },
   "cell_type": "code",
   "source": [
    "def sort_by_key(t):\n",
    "  return t[0]\n",
    "\n",
    "from collections import OrderedDict\n",
    "d= OrderedDict()\n",
    "d[\"x\"] = 1\n",
    "d[\"b\"] = 2\n",
    "d[\"d\"] = 4\n",
    "d[\"c\"] = 3\n",
    "d[\"e\"] = 5\n",
    "\n",
    "# key 정렬해보기. \n",
    "for k,v in OrderedDict(sorted(d.items(), key=sort_by_key)).items():\n",
    "  print(f\"key : {k}, value : {v}\")"
   ],
   "id": "4d2660251279e1a1",
   "outputs": [
    {
     "name": "stdout",
     "output_type": "stream",
     "text": [
      "key : b, value : 2\n",
      "key : c, value : 3\n",
      "key : d, value : 4\n",
      "key : e, value : 5\n",
      "key : x, value : 1\n"
     ]
    }
   ],
   "execution_count": 22
  },
  {
   "metadata": {},
   "cell_type": "code",
   "outputs": [],
   "execution_count": null,
   "source": "",
   "id": "ddc493d84c3edfd6"
  }
 ],
 "metadata": {
  "kernelspec": {
   "display_name": "Python 3",
   "language": "python",
   "name": "python3"
  },
  "language_info": {
   "codemirror_mode": {
    "name": "ipython",
    "version": 2
   },
   "file_extension": ".py",
   "mimetype": "text/x-python",
   "name": "python",
   "nbconvert_exporter": "python",
   "pygments_lexer": "ipython2",
   "version": "2.7.6"
  }
 },
 "nbformat": 4,
 "nbformat_minor": 5
}
