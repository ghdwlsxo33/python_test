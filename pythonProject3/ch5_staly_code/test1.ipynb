{
 "cells": [
  {
   "cell_type": "code",
   "id": "initial_id",
   "metadata": {
    "collapsed": true,
    "ExecuteTime": {
     "end_time": "2024-07-18T05:02:23.016090Z",
     "start_time": "2024-07-18T05:02:23.011358Z"
    }
   },
   "source": [
    "case1 =[\"A\",\"B\",\"C\"]\n",
    "case2 =[\"1\",\"2\",\"3\"]\n",
    "\n",
    "result1 = [i + j for i in case1 for j in case2]\n",
    "print(result1)"
   ],
   "outputs": [
    {
     "name": "stdout",
     "output_type": "stream",
     "text": [
      "['A1', 'A2', 'A3', 'B1', 'B2', 'B3', 'C1', 'C2', 'C3']\n"
     ]
    }
   ],
   "execution_count": 6
  },
  {
   "metadata": {
    "ExecuteTime": {
     "end_time": "2024-07-18T05:02:23.020188Z",
     "start_time": "2024-07-18T05:02:23.017091Z"
    }
   },
   "cell_type": "code",
   "source": [
    "result2 = [[i + j for i in case1] for j in case2]\n",
    "print(result2)"
   ],
   "id": "24ac73e561595180",
   "outputs": [
    {
     "name": "stdout",
     "output_type": "stream",
     "text": [
      "[['A1', 'B1', 'C1'], ['A2', 'B2', 'C2'], ['A3', 'B3', 'C3']]\n"
     ]
    }
   ],
   "execution_count": 7
  },
  {
   "metadata": {
    "ExecuteTime": {
     "end_time": "2024-07-18T05:02:23.024390Z",
     "start_time": "2024-07-18T05:02:23.021188Z"
    }
   },
   "cell_type": "code",
   "source": [
    "for i,j in enumerate(result2):\n",
    "    print(i,j)"
   ],
   "id": "3d01856215af7f30",
   "outputs": [
    {
     "name": "stdout",
     "output_type": "stream",
     "text": [
      "0 ['A1', 'B1', 'C1']\n",
      "1 ['A2', 'B2', 'C2']\n",
      "2 ['A3', 'B3', 'C3']\n"
     ]
    }
   ],
   "execution_count": 8
  },
  {
   "metadata": {
    "ExecuteTime": {
     "end_time": "2024-07-18T05:02:57.218971Z",
     "start_time": "2024-07-18T05:02:57.215534Z"
    }
   },
   "cell_type": "code",
   "source": [
    "for a,b in zip(case1,case2):\n",
    "    print(a,b)"
   ],
   "id": "77da6a57dabb5489",
   "outputs": [
    {
     "name": "stdout",
     "output_type": "stream",
     "text": [
      "A 1\n",
      "B 2\n",
      "C 3\n"
     ]
    }
   ],
   "execution_count": 9
  },
  {
   "metadata": {},
   "cell_type": "code",
   "outputs": [],
   "execution_count": null,
   "source": "",
   "id": "76a1f509bf6e189"
  }
 ],
 "metadata": {
  "kernelspec": {
   "display_name": "Python 3",
   "language": "python",
   "name": "python3"
  },
  "language_info": {
   "codemirror_mode": {
    "name": "ipython",
    "version": 2
   },
   "file_extension": ".py",
   "mimetype": "text/x-python",
   "name": "python",
   "nbconvert_exporter": "python",
   "pygments_lexer": "ipython2",
   "version": "2.7.6"
  }
 },
 "nbformat": 4,
 "nbformat_minor": 5
}
