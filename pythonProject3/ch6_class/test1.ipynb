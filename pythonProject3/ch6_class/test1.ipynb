{
 "cells": [
  {
   "cell_type": "code",
   "id": "initial_id",
   "metadata": {
    "collapsed": true,
    "ExecuteTime": {
     "end_time": "2024-07-18T06:11:32.193310Z",
     "start_time": "2024-07-18T06:11:32.189235Z"
    }
   },
   "source": [
    "class CatSoccerPlayer(object):\n",
    "    def __init__(self,name,position,back_number):\n",
    "        self.name = name\n",
    "        self.position = position\n",
    "        self.back_number = back_number\n",
    "        \n",
    "    def change_back_number(self,new_number):\n",
    "        print(f\"현재 등번호 : {self.back_number} to {new_number}\")\n",
    "        self.back_number = new_number\n",
    "    \n",
    "    def __str__(self):\n",
    "        return f'이름 : {self.name}, 포지션 : {self.position}, 등번호 : {self.back_number}'"
   ],
   "outputs": [],
   "execution_count": 17
  },
  {
   "metadata": {
    "ExecuteTime": {
     "end_time": "2024-07-18T06:11:32.198917Z",
     "start_time": "2024-07-18T06:11:32.194311Z"
    }
   },
   "cell_type": "code",
   "source": [
    "lsyCatPlayer1 = CatSoccerPlayer(\"상용고양이선수1\",\"MF\",\"100\")\n",
    "print(lsyCatPlayer1)"
   ],
   "id": "f6a3950fed901d42",
   "outputs": [
    {
     "name": "stdout",
     "output_type": "stream",
     "text": [
      "이름 : 상용고양이선수1, 포지션 : MF, 등번호 : 100\n"
     ]
    }
   ],
   "execution_count": 18
  },
  {
   "metadata": {
    "ExecuteTime": {
     "end_time": "2024-07-18T06:11:32.204160Z",
     "start_time": "2024-07-18T06:11:32.199917Z"
    }
   },
   "cell_type": "code",
   "source": "lsyCatPlayer1.change_back_number(200)",
   "id": "15b0e9a3f946c39b",
   "outputs": [
    {
     "name": "stdout",
     "output_type": "stream",
     "text": [
      "현재 등번호 : 100 to 200\n"
     ]
    }
   ],
   "execution_count": 19
  },
  {
   "metadata": {
    "ExecuteTime": {
     "end_time": "2024-07-18T06:11:32.210037Z",
     "start_time": "2024-07-18T06:11:32.205160Z"
    }
   },
   "cell_type": "code",
   "source": [
    "class LoadCat(CatSoccerPlayer):\n",
    "    def __init__(self, name, position, back_number, team_name, salary):\n",
    "        super().__init__(name, position, back_number)\n",
    "        self.team_name = team_name\n",
    "        self.salary = salary\n",
    "\n",
    "    def upgrade_salary(self, new_salary):\n",
    "        self.salary = new_salary\n",
    "        print(f\"{self.name}님의 연봉은 곧 {new_salary}로 곧 상향됨\")\n",
    "\n",
    "    def change_back_number(self, new_number):\n",
    "        super().change_back_number()\n",
    "        print(\"부모 메서드 호출 후, 내꺼 메서드 호출함. \")\n",
    "\n",
    "    def __str__(self):\n",
    "        return \"안녕하세용 길고양이 선수 : %s, 연봉은 : %s , 소속팀은: %s 만나서 반가워요\" % (self.name, self.salary, self.team_name)"
   ],
   "id": "7186d45039f90a0",
   "outputs": [],
   "execution_count": 20
  },
  {
   "metadata": {
    "ExecuteTime": {
     "end_time": "2024-07-18T06:11:32.215301Z",
     "start_time": "2024-07-18T06:11:32.211039Z"
    }
   },
   "cell_type": "code",
   "source": [
    "lsyLoadCat = LoadCat(\"상용길고양이\", \"MF\", \"100\", \"한국 국가대표 길고양이팀\", \"1억\")\n",
    "print(lsyLoadCat)"
   ],
   "id": "3106ef43c57277ce",
   "outputs": [
    {
     "name": "stdout",
     "output_type": "stream",
     "text": [
      "안녕하세용 길고양이 선수 : 상용길고양이, 연봉은 : 1억 , 소속팀은: 한국 국가대표 길고양이팀 만나서 반가워요\n"
     ]
    }
   ],
   "execution_count": 21
  },
  {
   "metadata": {
    "ExecuteTime": {
     "end_time": "2024-07-18T06:11:32.220430Z",
     "start_time": "2024-07-18T06:11:32.216301Z"
    }
   },
   "cell_type": "code",
   "source": "lsyLoadCat.upgrade_salary(\"2억\")",
   "id": "1e9d0763c59ae8e3",
   "outputs": [
    {
     "name": "stdout",
     "output_type": "stream",
     "text": [
      "상용길고양이님의 연봉은 곧 2억로 곧 상향됨\n"
     ]
    }
   ],
   "execution_count": 22
  },
  {
   "metadata": {
    "ExecuteTime": {
     "end_time": "2024-07-18T06:11:32.225116Z",
     "start_time": "2024-07-18T06:11:32.221430Z"
    }
   },
   "cell_type": "code",
   "source": "print(lsyLoadCat)",
   "id": "fb98a4254488839b",
   "outputs": [
    {
     "name": "stdout",
     "output_type": "stream",
     "text": [
      "안녕하세용 길고양이 선수 : 상용길고양이, 연봉은 : 2억 , 소속팀은: 한국 국가대표 길고양이팀 만나서 반가워요\n"
     ]
    }
   ],
   "execution_count": 23
  },
  {
   "metadata": {
    "ExecuteTime": {
     "end_time": "2024-07-18T06:11:32.240559Z",
     "start_time": "2024-07-18T06:11:32.226116Z"
    }
   },
   "cell_type": "code",
   "source": "# lsyLoadCat.change_back_number(\"300\")",
   "id": "2b99529a729180aa",
   "outputs": [
    {
     "ename": "TypeError",
     "evalue": "CatSoccerPlayer.change_back_number() missing 1 required positional argument: 'new_number'",
     "output_type": "error",
     "traceback": [
      "\u001B[1;31m---------------------------------------------------------------------------\u001B[0m",
      "\u001B[1;31mTypeError\u001B[0m                                 Traceback (most recent call last)",
      "Cell \u001B[1;32mIn[24], line 1\u001B[0m\n\u001B[1;32m----> 1\u001B[0m \u001B[43mlsyLoadCat\u001B[49m\u001B[38;5;241;43m.\u001B[39;49m\u001B[43mchange_back_number\u001B[49m\u001B[43m(\u001B[49m\u001B[38;5;124;43m\"\u001B[39;49m\u001B[38;5;124;43m300\u001B[39;49m\u001B[38;5;124;43m\"\u001B[39;49m\u001B[43m)\u001B[49m\n",
      "Cell \u001B[1;32mIn[20], line 12\u001B[0m, in \u001B[0;36mLoadCat.change_back_number\u001B[1;34m(self, new_number)\u001B[0m\n\u001B[0;32m     11\u001B[0m \u001B[38;5;28;01mdef\u001B[39;00m \u001B[38;5;21mchange_back_number\u001B[39m(\u001B[38;5;28mself\u001B[39m, new_number):\n\u001B[1;32m---> 12\u001B[0m     \u001B[38;5;28;43msuper\u001B[39;49m\u001B[43m(\u001B[49m\u001B[43m)\u001B[49m\u001B[38;5;241;43m.\u001B[39;49m\u001B[43mchange_back_number\u001B[49m\u001B[43m(\u001B[49m\u001B[43m)\u001B[49m\n\u001B[0;32m     13\u001B[0m     \u001B[38;5;28mprint\u001B[39m(\u001B[38;5;124m\"\u001B[39m\u001B[38;5;124m부모 메서드 호출 후, 내꺼 메서드 호출함. \u001B[39m\u001B[38;5;124m\"\u001B[39m)\n",
      "\u001B[1;31mTypeError\u001B[0m: CatSoccerPlayer.change_back_number() missing 1 required positional argument: 'new_number'"
     ]
    }
   ],
   "execution_count": 24
  },
  {
   "metadata": {
    "ExecuteTime": {
     "end_time": "2024-07-18T06:11:32.243327Z",
     "start_time": "2024-07-18T06:11:32.241558Z"
    }
   },
   "cell_type": "code",
   "source": "",
   "id": "93654c4893c01a5c",
   "outputs": [],
   "execution_count": 24
  }
 ],
 "metadata": {
  "kernelspec": {
   "display_name": "Python 3",
   "language": "python",
   "name": "python3"
  },
  "language_info": {
   "codemirror_mode": {
    "name": "ipython",
    "version": 2
   },
   "file_extension": ".py",
   "mimetype": "text/x-python",
   "name": "python",
   "nbconvert_exporter": "python",
   "pygments_lexer": "ipython2",
   "version": "2.7.6"
  }
 },
 "nbformat": 4,
 "nbformat_minor": 5
}
