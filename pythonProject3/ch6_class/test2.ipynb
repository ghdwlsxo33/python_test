{
 "cells": [
  {
   "cell_type": "code",
   "id": "initial_id",
   "metadata": {
    "collapsed": true,
    "ExecuteTime": {
     "end_time": "2024-07-18T06:12:12.742891Z",
     "start_time": "2024-07-18T06:12:12.734417Z"
    }
   },
   "source": [
    "class Product(object):\n",
    "    pass\n",
    "\n",
    "class Inventory(object):\n",
    "    def __init__(self):\n",
    "        self.__items = []\n",
    "    \n",
    "    # 외부에서 접근 가능하게 속성에 @propert 이용하기.\n",
    "    @property\n",
    "    def items(self):\n",
    "        return self.__items\n",
    "    \n",
    "    def add_new_item(self, product):\n",
    "        if type(product) == Product:\n",
    "            self.__items.append(product)\n",
    "            print('Item added')\n",
    "        else:\n",
    "            raise ValueError(\"Invalid product type\")\n",
    "    \n",
    "    def get_number_of_items(self):\n",
    "        return len(self.__items)\n"
   ],
   "outputs": [],
   "execution_count": 1
  },
  {
   "metadata": {
    "ExecuteTime": {
     "end_time": "2024-07-18T06:12:12.748671Z",
     "start_time": "2024-07-18T06:12:12.743893Z"
    }
   },
   "cell_type": "code",
   "source": [
    "my_inventory = Inventory()\n",
    "my_inventory.add_new_item(Product())\n",
    "my_inventory.add_new_item(Product())\n",
    "# 함수를 이용해서 접근하기. \n",
    "items = my_inventory.items\n",
    "items.append(Product())\n"
   ],
   "id": "8f0039042902f365",
   "outputs": [
    {
     "name": "stdout",
     "output_type": "stream",
     "text": [
      "Item added\n",
      "Item added\n"
     ]
    }
   ],
   "execution_count": 2
  },
  {
   "metadata": {
    "ExecuteTime": {
     "end_time": "2024-07-18T06:12:12.753083Z",
     "start_time": "2024-07-18T06:12:12.749674Z"
    }
   },
   "cell_type": "code",
   "source": "",
   "id": "9645c1e46bcc3201",
   "outputs": [],
   "execution_count": 2
  }
 ],
 "metadata": {
  "kernelspec": {
   "display_name": "Python 3",
   "language": "python",
   "name": "python3"
  },
  "language_info": {
   "codemirror_mode": {
    "name": "ipython",
    "version": 2
   },
   "file_extension": ".py",
   "mimetype": "text/x-python",
   "name": "python",
   "nbconvert_exporter": "python",
   "pygments_lexer": "ipython2",
   "version": "2.7.6"
  }
 },
 "nbformat": 4,
 "nbformat_minor": 5
}
