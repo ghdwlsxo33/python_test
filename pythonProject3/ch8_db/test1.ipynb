{
 "cells": [
  {
   "cell_type": "code",
   "id": "initial_id",
   "metadata": {
    "collapsed": true,
    "ExecuteTime": {
     "end_time": "2024-07-18T07:26:43.731836Z",
     "start_time": "2024-07-18T07:26:43.724118Z"
    }
   },
   "source": [
    "import pymysql\n",
    "\n",
    "conn = pymysql.connect(\n",
    "host='127.0.0.1', \n",
    "user='webuser', \n",
    "password='webuser',\n",
    " db='pydb', \n",
    "charset='utf8')\n",
    "cur = conn.cursor()\n",
    "cur.execute(\"SELECT * FROM book\")\n",
    "\n",
    "print(\"ID    title    writer         \")\n",
    "print(\"--------------------------------------------------------\")\n",
    "\n",
    "while (True):\n",
    "    row = cur.fetchone()\n",
    "    if row == None:\n",
    "        break\n",
    "    data1 = row[0]\n",
    "    data2 = row[1]\n",
    "    data3 = row[2]\n",
    "    \n",
    "    print(\"%5s   %15s   %15s \\n\" % (data1, data2, data3))\n",
    "    # print(f\" ID: {data1}, title: {data2}, writer: {data3}\")\n",
    "\n",
    "conn.close()"
   ],
   "outputs": [
    {
     "name": "stdout",
     "output_type": "stream",
     "text": [
      "ID    title    writer         \n",
      "--------------------------------------------------------\n",
      "    1             안드로이드                한빛 \n",
      "\n",
      "    2             안드로이드                한빛 \n",
      "\n",
      "    3         Oracle DB                한빛 \n",
      "\n",
      "    4            Spring                영딘 \n",
      "\n",
      "    5             안드로이드                한빛 \n",
      "\n",
      "    6             안드로이드                한빛 \n",
      "\n",
      "    7         Oracle DB                한빛 \n",
      "\n",
      "    8            Spring                영딘 \n",
      "\n"
     ]
    }
   ],
   "execution_count": 14
  },
  {
   "metadata": {
    "ExecuteTime": {
     "end_time": "2024-07-18T07:26:39.695509Z",
     "start_time": "2024-07-18T07:26:39.665435Z"
    }
   },
   "cell_type": "code",
   "source": [
    "def insert_book(data):\n",
    "    conn=pymysql.connect(host='localhost',user='webuser',password='webuser', db='pydb', charset='utf8')\n",
    "    cursor=conn.cursor()\n",
    "    sql=\"insert into book(title,pub,pages,author) values(%s,%s,%s,%s)\"\n",
    "    cursor.execute(sql,data)\n",
    "    conn.commit()\n",
    "    conn.close()\n",
    "    \n",
    "data=('안드로이드','한빛',650,'홍길동')\n",
    "insert_book(data)\n",
    "\n",
    "def insert_book_list(datas):\n",
    "    conn=pymysql.connect(host='localhost',user='webuser',password='webuser',db='pydb',charset='utf8')\n",
    "    cursor=conn.cursor()\n",
    "    sql=\"insert into book(title,pub,pages,author) values(%s,%s,%s,%s)\"\n",
    "    cursor.executemany(sql,datas)\n",
    "    conn.commit()\n",
    "    conn.close()\n",
    "datas=[('안드로이드','한빛',650,'홍길동'),\n",
    " ('Oracle DB','한빛',650,'홍길동'),\n",
    " ('Spring','영딘',650,'홍길동')]\n",
    "insert_book_list(datas)"
   ],
   "id": "5e75ba504723c763",
   "outputs": [],
   "execution_count": 13
  },
  {
   "metadata": {},
   "cell_type": "code",
   "outputs": [],
   "execution_count": null,
   "source": "",
   "id": "95189ded78ff2a93"
  }
 ],
 "metadata": {
  "kernelspec": {
   "display_name": "Python 3",
   "language": "python",
   "name": "python3"
  },
  "language_info": {
   "codemirror_mode": {
    "name": "ipython",
    "version": 2
   },
   "file_extension": ".py",
   "mimetype": "text/x-python",
   "name": "python",
   "nbconvert_exporter": "python",
   "pygments_lexer": "ipython2",
   "version": "2.7.6"
  }
 },
 "nbformat": 4,
 "nbformat_minor": 5
}
