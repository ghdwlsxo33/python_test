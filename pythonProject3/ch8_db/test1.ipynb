{
 "cells": [
  {
   "cell_type": "code",
   "id": "initial_id",
   "metadata": {
    "collapsed": true,
    "ExecuteTime": {
     "end_time": "2024-07-19T00:11:58.036592Z",
     "start_time": "2024-07-19T00:11:57.955724Z"
    }
   },
   "source": [
    "import pymysql\n",
    "\n",
    "conn = pymysql.connect(\n",
    "host='127.0.0.1', \n",
    "user='webuser', \n",
    "password='webuser',\n",
    " db='pydb', \n",
    "charset='utf8')\n",
    "cur = conn.cursor()\n",
    "cur.execute(\"SELECT * FROM book\")\n",
    "\n",
    "print(\"ID    title    writer         \")\n",
    "print(\"--------------------------------------------------------\")\n",
    "\n",
    "while (True):\n",
    "    row = cur.fetchone()\n",
    "    if row == None:\n",
    "        break\n",
    "    data1 = row[0]\n",
    "    data2 = row[1]\n",
    "    data3 = row[2]\n",
    "    \n",
    "    print(\"%5s   %15s   %15s \\n\" % (data1, data2, data3))\n",
    "    # print(f\" ID: {data1}, title: {data2}, writer: {data3}\")\n",
    "\n",
    "conn.close()"
   ],
   "outputs": [
    {
     "name": "stdout",
     "output_type": "stream",
     "text": [
      "ID    title    writer         \n",
      "--------------------------------------------------------\n",
      "    3           Spring3               영딘3 \n",
      "\n",
      "    4            Spring                영딘 \n",
      "\n",
      "    5             안드로이드                한빛 \n",
      "\n",
      "    6             안드로이드                한빛 \n",
      "\n",
      "    7         Oracle DB                한빛 \n",
      "\n",
      "    8            Spring                영딘 \n",
      "\n",
      "    9             안드로이드                한빛 \n",
      "\n",
      "   10             안드로이드                한빛 \n",
      "\n",
      "   11         Oracle DB                한빛 \n",
      "\n",
      "   12            Spring                영딘 \n",
      "\n"
     ]
    }
   ],
   "execution_count": 2
  },
  {
   "metadata": {
    "ExecuteTime": {
     "end_time": "2024-07-19T00:12:24.061891Z",
     "start_time": "2024-07-19T00:12:24.032342Z"
    }
   },
   "cell_type": "code",
   "source": [
    "def select_all():\n",
    "  conn=pymysql.connect(host='localhost',\n",
    "    user='webuser',\n",
    "    password='webuser', \n",
    "    db='pydb', \n",
    "    charset='utf8')\n",
    "  cursor=conn.cursor()\n",
    "  sql=\"select * from book\"\n",
    "  cursor.execute(sql)\n",
    "  for book in cursor:\n",
    "    print(book)\n",
    "  conn.close()\n",
    "select_all()\n"
   ],
   "id": "5e75ba504723c763",
   "outputs": [
    {
     "name": "stdout",
     "output_type": "stream",
     "text": [
      "(3, '안드로이드2', '한솔2', 6502, '홍길동2')\n",
      "(4, '안드로이드1', '한빛1', 6501, '홍길동1')\n",
      "(5, 'Oracle DB2', '한빛2', 6502, '홍길동2')\n",
      "(6, 'Spring3', '영딘3', 6503, '홍길동3')\n",
      "(7, 'Oracle DB', '한빛', 650, '홍길동')\n",
      "(8, 'Spring', '영딘', 650, '홍길동')\n",
      "(9, '안드로이드', '한빛', 650, '홍길동')\n",
      "(10, '안드로이드', '한빛', 650, '홍길동')\n",
      "(11, 'Oracle DB', '한빛', 650, '홍길동')\n",
      "(12, 'Spring', '영딘', 650, '홍길동')\n",
      "(13, '안드로이드', '한빛', 650, '홍길동')\n",
      "(14, '안드로이드', '한빛', 650, '홍길동')\n",
      "(15, 'Oracle DB', '한빛', 650, '홍길동')\n",
      "(16, 'Spring', '영딘', 650, '홍길동')\n"
     ]
    }
   ],
   "execution_count": 6
  },
  {
   "metadata": {
    "ExecuteTime": {
     "end_time": "2024-07-19T00:12:09.752969Z",
     "start_time": "2024-07-19T00:12:09.739418Z"
    }
   },
   "cell_type": "code",
   "source": [
    "def insert_book(data):\n",
    "    conn=pymysql.connect(host='localhost',user='webuser',password='webuser', db='pydb', charset='utf8')\n",
    "    cursor=conn.cursor()\n",
    "    sql=\"insert into book(title,pub,pages,author) values(%s,%s,%s,%s)\"\n",
    "    cursor.execute(sql,data)\n",
    "    conn.commit()\n",
    "    conn.close()\n",
    "    \n",
    "data=('안드로이드','한빛',650,'홍길동')\n",
    "insert_book(data)\n",
    "\n",
    "\n",
    "\n",
    "def insert_book_list(datas):\n",
    "    conn=pymysql.connect(host='localhost',user='webuser',password='webuser',db='pydb',charset='utf8')\n",
    "    cursor=conn.cursor()\n",
    "    sql=\"insert into book(title,pub,pages,author) values(%s,%s,%s,%s)\"\n",
    "    cursor.executemany(sql,datas)\n",
    "    conn.commit()\n",
    "    conn.close()\n",
    "datas=[('안드로이드','한빛',650,'홍길동'),\n",
    " ('Oracle DB','한빛',650,'홍길동'),\n",
    " ('Spring','영딘',650,'홍길동')]\n",
    "insert_book_list(datas)\n",
    "select_all()\n",
    "\n"
   ],
   "id": "95189ded78ff2a93",
   "outputs": [],
   "execution_count": 4
  },
  {
   "metadata": {
    "ExecuteTime": {
     "end_time": "2024-07-19T00:12:17.787505Z",
     "start_time": "2024-07-19T00:12:17.749455Z"
    }
   },
   "cell_type": "code",
   "source": [
    "def update_book(data):\n",
    "    conn=pymysql.connect(host='localhost',user='webuser',password='webuser',db='pydb',charset='utf8')\n",
    "    cursor=conn.cursor()\n",
    "    sql=\"update book set title=%s,pub=%s,pages=%s,author=%s where id=%s\"\n",
    "    cursor.execute(sql,data)\n",
    "    conn.commit()\n",
    "    conn.close()\n",
    "    \n",
    "data=('안드로이드2','한솔2',6502,'홍길동2','5')\n",
    "update_book(data)\n",
    "\n",
    "def update_book_list(datas):\n",
    "    conn=pymysql.connect(host='localhost',user='webuser',password='webuser',db='pydb',charset='utf8')\n",
    "    cursor=conn.cursor()\n",
    "    sql=\"update book set title=%s,pub=%s,pages=%s,author=%s where id=%s\"\n",
    "    cursor.executemany(sql,datas)\n",
    "    conn.commit()\n",
    "    conn.close()\n",
    "    \n",
    "datas=[('안드로이드1','한빛1',6501,'홍길동1','6'),\n",
    " ('Oracle DB2','한빛2',6502,'홍길동2','7'),\n",
    " ('Spring3','영딘3',6503,'홍길동3','8')]\n",
    "update_book_list(datas)\n",
    "select_all()"
   ],
   "id": "5648c515ed97e69c",
   "outputs": [],
   "execution_count": 5
  },
  {
   "metadata": {
    "ExecuteTime": {
     "end_time": "2024-07-19T00:14:07.209440Z",
     "start_time": "2024-07-19T00:14:07.201215Z"
    }
   },
   "cell_type": "code",
   "source": [
    "def delete_book(data):\n",
    "    conn=pymysql.connect(host='localhost',user='webuser',password='webuser', \n",
    "    db='pydb', charset='utf8')\n",
    "    cursor=conn.cursor()\n",
    "    sql=\"delete from book where id=%s\"\n",
    "\n",
    "    cursor.executemany(sql,data)\n",
    "    conn.commit()\n",
    "    conn.close()\n",
    "\n",
    "delete_book([3,4])\n",
    "select_all()"
   ],
   "id": "bce1c07294a309ce",
   "outputs": [
    {
     "name": "stdout",
     "output_type": "stream",
     "text": [
      "(5, 'Oracle DB2', '한빛2', 6502, '홍길동2')\n",
      "(6, 'Spring3', '영딘3', 6503, '홍길동3')\n",
      "(7, 'Oracle DB', '한빛', 650, '홍길동')\n",
      "(8, 'Spring', '영딘', 650, '홍길동')\n",
      "(9, '안드로이드', '한빛', 650, '홍길동')\n",
      "(10, '안드로이드', '한빛', 650, '홍길동')\n",
      "(11, 'Oracle DB', '한빛', 650, '홍길동')\n",
      "(12, 'Spring', '영딘', 650, '홍길동')\n",
      "(13, '안드로이드', '한빛', 650, '홍길동')\n",
      "(14, '안드로이드', '한빛', 650, '홍길동')\n",
      "(15, 'Oracle DB', '한빛', 650, '홍길동')\n",
      "(16, 'Spring', '영딘', 650, '홍길동')\n"
     ]
    }
   ],
   "execution_count": 8
  },
  {
   "metadata": {},
   "cell_type": "code",
   "outputs": [],
   "execution_count": null,
   "source": "",
   "id": "5d8315a51a18ac38"
  }
 ],
 "metadata": {
  "kernelspec": {
   "display_name": "Python 3",
   "language": "python",
   "name": "python3"
  },
  "language_info": {
   "codemirror_mode": {
    "name": "ipython",
    "version": 2
   },
   "file_extension": ".py",
   "mimetype": "text/x-python",
   "name": "python",
   "nbconvert_exporter": "python",
   "pygments_lexer": "ipython2",
   "version": "2.7.6"
  }
 },
 "nbformat": 4,
 "nbformat_minor": 5
}
