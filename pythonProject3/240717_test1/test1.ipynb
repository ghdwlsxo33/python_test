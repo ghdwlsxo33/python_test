{
 "cells": [
  {
   "cell_type": "code",
   "id": "initial_id",
   "metadata": {
    "collapsed": true,
    "ExecuteTime": {
     "end_time": "2024-07-17T02:47:00.257353Z",
     "start_time": "2024-07-17T02:47:00.253946Z"
    }
   },
   "source": "print(\"오늘 점심 뭐먹지?\")",
   "outputs": [
    {
     "name": "stdout",
     "output_type": "stream",
     "text": [
      "오늘 점심 뭐먹지?\n"
     ]
    }
   ],
   "execution_count": 5
  },
  {
   "metadata": {
    "ExecuteTime": {
     "end_time": "2024-07-17T02:47:00.294551Z",
     "start_time": "2024-07-17T02:47:00.290269Z"
    }
   },
   "cell_type": "code",
   "source": [
    "lunchMenu =\"돈까스\"\n",
    "price =8000\n",
    "print(lunchMenu)\n",
    "print(price)\n",
    "print(type(lunchMenu))\n",
    "print(type(price))"
   ],
   "id": "7943a2505d859ac3",
   "outputs": [
    {
     "name": "stdout",
     "output_type": "stream",
     "text": [
      "돈까스\n",
      "8000\n",
      "<class 'str'>\n",
      "<class 'int'>\n"
     ]
    }
   ],
   "execution_count": 6
  },
  {
   "metadata": {
    "ExecuteTime": {
     "end_time": "2024-07-17T02:47:00.346911Z",
     "start_time": "2024-07-17T02:47:00.343423Z"
    }
   },
   "cell_type": "code",
   "source": [
    "priceFloat = float(price)\n",
    "priceStr = str(price)\n",
    "print(priceStr)\n",
    "print(priceFloat)\n",
    "print(type(priceStr))\n",
    "print(type(lunchMenu))"
   ],
   "id": "d8be708fcf60b735",
   "outputs": [
    {
     "name": "stdout",
     "output_type": "stream",
     "text": [
      "8000\n",
      "8000.0\n",
      "<class 'str'>\n",
      "<class 'str'>\n"
     ]
    }
   ],
   "execution_count": 7
  },
  {
   "metadata": {
    "ExecuteTime": {
     "end_time": "2024-07-17T02:47:00.362143Z",
     "start_time": "2024-07-17T02:47:00.359878Z"
    }
   },
   "cell_type": "code",
   "source": [
    "varA = 1\n",
    "print(id(varA))"
   ],
   "id": "67a57f98a4c7adc2",
   "outputs": [
    {
     "name": "stdout",
     "output_type": "stream",
     "text": [
      "140705694349752\n"
     ]
    }
   ],
   "execution_count": 8
  },
  {
   "metadata": {
    "ExecuteTime": {
     "end_time": "2024-07-17T02:47:00.368652Z",
     "start_time": "2024-07-17T02:47:00.366134Z"
    }
   },
   "cell_type": "code",
   "source": [
    "a=3\n",
    "b=3.5\n",
    "c=\"python\"\n",
    "print(\"%d, %f, %s\" %(a, b, c))\n"
   ],
   "id": "e218366a19ca9293",
   "outputs": [
    {
     "name": "stdout",
     "output_type": "stream",
     "text": [
      "3, 3.500000, python\n"
     ]
    }
   ],
   "execution_count": 9
  },
  {
   "metadata": {
    "ExecuteTime": {
     "end_time": "2024-07-17T02:47:00.380611Z",
     "start_time": "2024-07-17T02:47:00.377630Z"
    }
   },
   "cell_type": "code",
   "source": "print(\"오늘 먹을 저심 메뉴 : %s, 가격 : %d원\" % (lunchMenu, price))",
   "id": "85537fcd0b04c44b",
   "outputs": [
    {
     "name": "stdout",
     "output_type": "stream",
     "text": [
      "오늘 먹을 저심 메뉴 : 돈까스, 가격 : 8000원\n"
     ]
    }
   ],
   "execution_count": 10
  },
  {
   "metadata": {
    "ExecuteTime": {
     "end_time": "2024-07-17T02:47:00.409698Z",
     "start_time": "2024-07-17T02:47:00.405547Z"
    }
   },
   "cell_type": "code",
   "source": "print(f\"오늘 먹을 저심 메뉴 : {lunchMenu}, 가격 : {price}원\")",
   "id": "ca7f174cd4ff76e1",
   "outputs": [
    {
     "name": "stdout",
     "output_type": "stream",
     "text": [
      "오늘 먹을 저심 메뉴 : 돈까스, 가격 : 8000원\n"
     ]
    }
   ],
   "execution_count": 11
  },
  {
   "metadata": {
    "ExecuteTime": {
     "end_time": "2024-07-17T02:47:04.123239Z",
     "start_time": "2024-07-17T02:47:00.421668Z"
    }
   },
   "cell_type": "code",
   "source": [
    "todayLunchMenuInput = input(\"오늘 먹고 싶은 메뉴 입력 해주세요!\")\n",
    "print(f\"오늘 먹을 점심 메뉴 : {todayLunchMenuInput}\")"
   ],
   "id": "9f18969486794eb2",
   "outputs": [
    {
     "name": "stdout",
     "output_type": "stream",
     "text": [
      "오늘 먹을 점심 메뉴 : 국밥\n"
     ]
    }
   ],
   "execution_count": 12
  },
  {
   "metadata": {
    "ExecuteTime": {
     "end_time": "2024-07-17T02:47:04.129821Z",
     "start_time": "2024-07-17T02:47:04.124241Z"
    }
   },
   "cell_type": "code",
   "source": "todayMenuList = [\"0돈까스-8\",\"1수육-7\",\"2국밥-6\",\"3제육볶음-5\",\"4모밀-4\",\"5된장찌개-3\",\"6국수-2\",\"7도시락-1\"]",
   "id": "10ebcc4da49defa3",
   "outputs": [],
   "execution_count": 13
  },
  {
   "metadata": {
    "ExecuteTime": {
     "end_time": "2024-07-17T02:47:04.147392Z",
     "start_time": "2024-07-17T02:47:04.143796Z"
    }
   },
   "cell_type": "code",
   "source": "print(todayMenuList[:])",
   "id": "6e504339a4905589",
   "outputs": [
    {
     "name": "stdout",
     "output_type": "stream",
     "text": [
      "['0돈까스-8', '1수육-7', '2국밥-6', '3제육볶음-5', '4모밀-4', '5된장찌개-3', '6국수-2', '7도시락-1']\n"
     ]
    }
   ],
   "execution_count": 14
  },
  {
   "metadata": {
    "ExecuteTime": {
     "end_time": "2024-07-17T02:47:04.179546Z",
     "start_time": "2024-07-17T02:47:04.176261Z"
    }
   },
   "cell_type": "code",
   "source": "print(todayMenuList[0:2])",
   "id": "73f95519868a485c",
   "outputs": [
    {
     "name": "stdout",
     "output_type": "stream",
     "text": [
      "['0돈까스-8', '1수육-7']\n"
     ]
    }
   ],
   "execution_count": 15
  },
  {
   "metadata": {
    "ExecuteTime": {
     "end_time": "2024-07-17T02:47:04.210628Z",
     "start_time": "2024-07-17T02:47:04.205419Z"
    }
   },
   "cell_type": "code",
   "source": "print(todayMenuList[6:-1])",
   "id": "15007c3a9ca363e6",
   "outputs": [
    {
     "name": "stdout",
     "output_type": "stream",
     "text": [
      "['6국수-2']\n"
     ]
    }
   ],
   "execution_count": 16
  },
  {
   "metadata": {
    "ExecuteTime": {
     "end_time": "2024-07-17T02:47:04.240475Z",
     "start_time": "2024-07-17T02:47:04.237559Z"
    }
   },
   "cell_type": "code",
   "source": "print(todayMenuList[-8:-4])",
   "id": "cc0b74e9eba580d",
   "outputs": [
    {
     "name": "stdout",
     "output_type": "stream",
     "text": [
      "['0돈까스-8', '1수육-7', '2국밥-6', '3제육볶음-5']\n"
     ]
    }
   ],
   "execution_count": 17
  },
  {
   "metadata": {
    "ExecuteTime": {
     "end_time": "2024-07-17T02:47:04.255970Z",
     "start_time": "2024-07-17T02:47:04.253443Z"
    }
   },
   "cell_type": "code",
   "source": "print(todayMenuList[4:])",
   "id": "45bfffc0f3cbc7fe",
   "outputs": [
    {
     "name": "stdout",
     "output_type": "stream",
     "text": [
      "['4모밀-4', '5된장찌개-3', '6국수-2', '7도시락-1']\n"
     ]
    }
   ],
   "execution_count": 18
  },
  {
   "metadata": {
    "ExecuteTime": {
     "end_time": "2024-07-17T02:47:04.270247Z",
     "start_time": "2024-07-17T02:47:04.266945Z"
    }
   },
   "cell_type": "code",
   "source": "print(todayMenuList[:4])",
   "id": "db3842fe9aaf9928",
   "outputs": [
    {
     "name": "stdout",
     "output_type": "stream",
     "text": [
      "['0돈까스-8', '1수육-7', '2국밥-6', '3제육볶음-5']\n"
     ]
    }
   ],
   "execution_count": 19
  },
  {
   "metadata": {
    "ExecuteTime": {
     "end_time": "2024-07-17T02:47:04.296482Z",
     "start_time": "2024-07-17T02:47:04.293189Z"
    }
   },
   "cell_type": "code",
   "source": "print(todayMenuList[1:8:2])",
   "id": "73eb84a572902727",
   "outputs": [
    {
     "name": "stdout",
     "output_type": "stream",
     "text": [
      "['1수육-7', '3제육볶음-5', '5된장찌개-3', '7도시락-1']\n"
     ]
    }
   ],
   "execution_count": 20
  },
  {
   "metadata": {
    "ExecuteTime": {
     "end_time": "2024-07-17T02:47:04.311910Z",
     "start_time": "2024-07-17T02:47:04.308462Z"
    }
   },
   "cell_type": "code",
   "source": "print(todayMenuList[::-1])",
   "id": "3c8a604bd5fa4e54",
   "outputs": [
    {
     "name": "stdout",
     "output_type": "stream",
     "text": [
      "['7도시락-1', '6국수-2', '5된장찌개-3', '4모밀-4', '3제육볶음-5', '2국밥-6', '1수육-7', '0돈까스-8']\n"
     ]
    }
   ],
   "execution_count": 21
  },
  {
   "metadata": {
    "ExecuteTime": {
     "end_time": "2024-07-17T02:47:04.326863Z",
     "start_time": "2024-07-17T02:47:04.321887Z"
    }
   },
   "cell_type": "code",
   "source": "print(todayMenuList[0:8:2])",
   "id": "f97afe8b0613c63d",
   "outputs": [
    {
     "name": "stdout",
     "output_type": "stream",
     "text": [
      "['0돈까스-8', '2국밥-6', '4모밀-4', '6국수-2']\n"
     ]
    }
   ],
   "execution_count": 22
  },
  {
   "metadata": {
    "ExecuteTime": {
     "end_time": "2024-07-17T02:47:04.338778Z",
     "start_time": "2024-07-17T02:47:04.335841Z"
    }
   },
   "cell_type": "code",
   "source": [
    "menuResultIn = \"라면\" in todayMenuList\n",
    "print(menuResultIn)"
   ],
   "id": "562dfb9daae73c0a",
   "outputs": [
    {
     "name": "stdout",
     "output_type": "stream",
     "text": [
      "False\n"
     ]
    }
   ],
   "execution_count": 23
  },
  {
   "metadata": {
    "ExecuteTime": {
     "end_time": "2024-07-17T02:47:04.379012Z",
     "start_time": "2024-07-17T02:47:04.375683Z"
    }
   },
   "cell_type": "code",
   "source": [
    "menuResultIn = \"6국수-2\" in todayMenuList\n",
    "print(menuResultIn)"
   ],
   "id": "7c3bbc175e55b7d8",
   "outputs": [
    {
     "name": "stdout",
     "output_type": "stream",
     "text": [
      "True\n"
     ]
    }
   ],
   "execution_count": 24
  },
  {
   "metadata": {
    "ExecuteTime": {
     "end_time": "2024-07-17T02:47:04.392530Z",
     "start_time": "2024-07-17T02:47:04.387990Z"
    }
   },
   "cell_type": "code",
   "source": [
    "todayMenuList.append(\"8라면\")\n",
    "print(todayMenuList)"
   ],
   "id": "3ca105d5c41f8546",
   "outputs": [
    {
     "name": "stdout",
     "output_type": "stream",
     "text": [
      "['0돈까스-8', '1수육-7', '2국밥-6', '3제육볶음-5', '4모밀-4', '5된장찌개-3', '6국수-2', '7도시락-1', '8라면']\n"
     ]
    }
   ],
   "execution_count": 25
  },
  {
   "metadata": {
    "ExecuteTime": {
     "end_time": "2024-07-17T02:47:04.397018Z",
     "start_time": "2024-07-17T02:47:04.393530Z"
    }
   },
   "cell_type": "code",
   "source": [
    "tomorrowMenuList = [\"서브웨이\",\"치킨\",\"빵\"]\n",
    "todayMenuList.extend(tomorrowMenuList)\n",
    "print(todayMenuList)"
   ],
   "id": "5c32bec3cd2ec472",
   "outputs": [
    {
     "name": "stdout",
     "output_type": "stream",
     "text": [
      "['0돈까스-8', '1수육-7', '2국밥-6', '3제육볶음-5', '4모밀-4', '5된장찌개-3', '6국수-2', '7도시락-1', '8라면', '서브웨이', '치킨', '빵']\n"
     ]
    }
   ],
   "execution_count": 26
  },
  {
   "metadata": {
    "ExecuteTime": {
     "end_time": "2024-07-17T02:47:45.230582Z",
     "start_time": "2024-07-17T02:47:45.226563Z"
    }
   },
   "cell_type": "code",
   "source": [
    "addMenuList = [\"초밥\",\"스테이크\",\"피자\"]\n",
    "todayMenuList.insert(1,addMenuList)\n",
    "print(todayMenuList)"
   ],
   "id": "98189f5fdb45a048",
   "outputs": [
    {
     "name": "stdout",
     "output_type": "stream",
     "text": [
      "['0돈까스-8', ['초밥', '스테이크', '피자'], ['초밥', '스테이크', '피자'], '1수육-7', '2국밥-6', '3제육볶음-5', '4모밀-4', '5된장찌개-3', '6국수-2', '7도시락-1', '8라면', '서브웨이', '빵', '치킨1', '치킨1', '치킨1']\n"
     ]
    }
   ],
   "execution_count": 39
  },
  {
   "metadata": {
    "ExecuteTime": {
     "end_time": "2024-07-17T02:47:50.684961Z",
     "start_time": "2024-07-17T02:47:50.681060Z"
    }
   },
   "cell_type": "code",
   "source": "print(todayMenuList[1][2])",
   "id": "f754bfd30fb134fe",
   "outputs": [
    {
     "name": "stdout",
     "output_type": "stream",
     "text": [
      "피자\n"
     ]
    }
   ],
   "execution_count": 40
  },
  {
   "metadata": {
    "ExecuteTime": {
     "end_time": "2024-07-17T02:47:04.471775Z",
     "start_time": "2024-07-17T02:47:04.468231Z"
    }
   },
   "cell_type": "code",
   "source": "print(todayMenuList[1][:])",
   "id": "cede5c6c438fed78",
   "outputs": [
    {
     "name": "stdout",
     "output_type": "stream",
     "text": [
      "['초밥', '스테이크', '피자']\n"
     ]
    }
   ],
   "execution_count": 29
  },
  {
   "metadata": {
    "ExecuteTime": {
     "end_time": "2024-07-17T02:47:04.506511Z",
     "start_time": "2024-07-17T02:47:04.503692Z"
    }
   },
   "cell_type": "code",
   "source": "print(todayMenuList[1][::-1])",
   "id": "f1508c866a8caa01",
   "outputs": [
    {
     "name": "stdout",
     "output_type": "stream",
     "text": [
      "['피자', '스테이크', '초밥']\n"
     ]
    }
   ],
   "execution_count": 30
  },
  {
   "metadata": {
    "ExecuteTime": {
     "end_time": "2024-07-17T02:47:53.807174Z",
     "start_time": "2024-07-17T02:47:53.794803Z"
    }
   },
   "cell_type": "code",
   "source": [
    "todayMenuList.remove(10)\n",
    "print(todayMenuList)"
   ],
   "id": "cad0fe3ef9d11ec",
   "outputs": [
    {
     "ename": "ValueError",
     "evalue": "list.remove(x): x not in list",
     "output_type": "error",
     "traceback": [
      "\u001B[1;31m---------------------------------------------------------------------------\u001B[0m",
      "\u001B[1;31mValueError\u001B[0m                                Traceback (most recent call last)",
      "Cell \u001B[1;32mIn[41], line 1\u001B[0m\n\u001B[1;32m----> 1\u001B[0m \u001B[43mtodayMenuList\u001B[49m\u001B[38;5;241;43m.\u001B[39;49m\u001B[43mremove\u001B[49m\u001B[43m(\u001B[49m\u001B[38;5;241;43m10\u001B[39;49m\u001B[43m)\u001B[49m\n\u001B[0;32m      2\u001B[0m \u001B[38;5;28mprint\u001B[39m(todayMenuList)\n",
      "\u001B[1;31mValueError\u001B[0m: list.remove(x): x not in list"
     ]
    }
   ],
   "execution_count": 41
  },
  {
   "metadata": {
    "ExecuteTime": {
     "end_time": "2024-07-17T02:48:34.590016Z",
     "start_time": "2024-07-17T02:48:34.585993Z"
    }
   },
   "cell_type": "code",
   "source": [
    "todayMenuList.remove('치킨1')\n",
    "print(todayMenuList)"
   ],
   "id": "2df7fa1467f33c59",
   "outputs": [
    {
     "name": "stdout",
     "output_type": "stream",
     "text": [
      "['0돈까스-8', ['초밥', '스테이크', '피자'], ['초밥', '스테이크', '피자'], '1수육-7', '2국밥-6', '3제육볶음-5', '4모밀-4', '5된장찌개-3', '6국수-2', '7도시락-1', '8라면', '서브웨이', '빵', '치킨1', '치킨1']\n"
     ]
    }
   ],
   "execution_count": 43
  },
  {
   "metadata": {
    "ExecuteTime": {
     "end_time": "2024-07-17T02:47:21.320532Z",
     "start_time": "2024-07-17T02:47:21.317294Z"
    }
   },
   "cell_type": "code",
   "source": "todayMenuList.append(\"치킨1\")",
   "id": "caa7666bf3a16cfb",
   "outputs": [],
   "execution_count": 37
  },
  {
   "metadata": {},
   "cell_type": "code",
   "outputs": [],
   "execution_count": null,
   "source": "",
   "id": "680de10a487af9fc"
  }
 ],
 "metadata": {
  "kernelspec": {
   "display_name": "Python 3",
   "language": "python",
   "name": "python3"
  },
  "language_info": {
   "codemirror_mode": {
    "name": "ipython",
    "version": 2
   },
   "file_extension": ".py",
   "mimetype": "text/x-python",
   "name": "python",
   "nbconvert_exporter": "python",
   "pygments_lexer": "ipython2",
   "version": "2.7.6"
  }
 },
 "nbformat": 4,
 "nbformat_minor": 5
}
