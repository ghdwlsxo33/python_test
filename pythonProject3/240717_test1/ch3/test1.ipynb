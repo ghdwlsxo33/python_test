{
 "cells": [
  {
   "cell_type": "code",
   "id": "initial_id",
   "metadata": {
    "collapsed": true,
    "ExecuteTime": {
     "end_time": "2024-07-17T06:34:56.000935Z",
     "start_time": "2024-07-17T06:34:55.996382Z"
    }
   },
   "source": [
    "def spam(eggs):\n",
    "    eggs.append(1)\n",
    "    print(f\"spam(eggs)안에서 eggs 순서2 의 id : {id(eggs)}\")\n",
    "    print(f\"spam(ham)안에서 eggs 순서3 의 id : {id(ham)}\")\n",
    "    eggs = [2,3]\n",
    "    print(f\"spam(eggs)안에서 eggs 순서4 의 id : {id(eggs)}\")\n",
    "    \n",
    "ham=[0]\n",
    "print(f\"ham 의 id 순서1 : {id(ham)}\")\n",
    "spam(ham)\n",
    "print(f\"ham 의 id 순서5 : {id(ham)}\")\n",
    "print(ham)"
   ],
   "outputs": [
    {
     "name": "stdout",
     "output_type": "stream",
     "text": [
      "ham 의 id 순서1 : 2248770389824\n",
      "spam(eggs)안에서 eggs 순서2 의 id : 2248770389824\n",
      "spam(ham)안에서 eggs 순서3 의 id : 2248770389824\n",
      "spam(eggs)안에서 eggs 순서4 의 id : 2248771836096\n",
      "ham 의 id 순서5 : 2248770389824\n",
      "[0, 1]\n"
     ]
    }
   ],
   "execution_count": 6
  },
  {
   "metadata": {
    "ExecuteTime": {
     "end_time": "2024-07-17T07:04:02.076254Z",
     "start_time": "2024-07-17T07:04:02.071670Z"
    }
   },
   "cell_type": "code",
   "source": [
    "def test(t):\n",
    "    print(x)\n",
    "    t=20\n",
    "    print(t)\n",
    "    \n",
    "x=10\n",
    "test(x)\n",
    "print(x)\n",
    "print(\"in main : \")"
   ],
   "id": "8260e1527eca61cb",
   "outputs": [
    {
     "name": "stdout",
     "output_type": "stream",
     "text": [
      "10\n",
      "20\n",
      "10\n",
      "in main : \n"
     ]
    }
   ],
   "execution_count": 7
  },
  {
   "metadata": {
    "ExecuteTime": {
     "end_time": "2024-07-17T07:05:30.840952Z",
     "start_time": "2024-07-17T07:05:30.836442Z"
    }
   },
   "cell_type": "code",
   "source": [
    "def f():\n",
    "    global s\n",
    "    s = \"I love to see you\"\n",
    "    print(s)\n",
    "s = \"I love you\"\n",
    "f()\n",
    "print(s)"
   ],
   "id": "8e46af5e26a621d",
   "outputs": [
    {
     "name": "stdout",
     "output_type": "stream",
     "text": [
      "I love to see you\n",
      "I love to see you\n"
     ]
    }
   ],
   "execution_count": 9
  },
  {
   "metadata": {
    "ExecuteTime": {
     "end_time": "2024-07-17T07:35:31.767854Z",
     "start_time": "2024-07-17T07:35:31.764108Z"
    }
   },
   "cell_type": "code",
   "source": [
    "def testKargs(**args):\n",
    "    print(args)\n",
    "    print(f\"키 값에 해당하는 value 값 조회: {args[\"a\"]}\")\n",
    "    print(f\"키 값에 해당하는 value 값 조회: {args[\"b\"]}\")\n",
    "    print(f\"키 값에 해당하는 value 값 조회: {args[\"c\"]}\")\n",
    "testKargs(a=1, b=2, c=3)"
   ],
   "id": "9cc11b6caa1c5767",
   "outputs": [
    {
     "name": "stdout",
     "output_type": "stream",
     "text": [
      "{'a': 1, 'b': 2, 'c': 3}\n",
      "키 값에 해당하는 value 값 조회: 1\n",
      "키 값에 해당하는 value 값 조회: 2\n",
      "키 값에 해당하는 value 값 조회: 3\n"
     ]
    }
   ],
   "execution_count": 11
  },
  {
   "metadata": {
    "ExecuteTime": {
     "end_time": "2024-07-17T07:38:57.442713Z",
     "start_time": "2024-07-17T07:38:57.438245Z"
    }
   },
   "cell_type": "code",
   "source": [
    "def A(*args):\n",
    "    x,y,*z = args\n",
    "    print(f\"z의 타입 :{type(z)}\")\n",
    "    return x,y,z\n",
    "print(f\"A(1,2)의 결과 : {A(1,2)}\")\n",
    "print(f\"A(1,2,3)의 결과 : {A(1,2,3)}\")\n",
    "print(f\"A(1,2,3,4,5)의 결과 : {A(1,2,3,4,5)}\")"
   ],
   "id": "2a5bd32dd0bddd08",
   "outputs": [
    {
     "name": "stdout",
     "output_type": "stream",
     "text": [
      "z의 타입 :<class 'list'>\n",
      "A(1,2)의 결과 : (1, 2, [])\n",
      "z의 타입 :<class 'list'>\n",
      "A(1,2,3)의 결과 : (1, 2, [3])\n",
      "z의 타입 :<class 'list'>\n",
      "A(1,2,3,4,5)의 결과 : (1, 2, [3, 4, 5])\n"
     ]
    }
   ],
   "execution_count": 13
  },
  {
   "metadata": {},
   "cell_type": "code",
   "outputs": [],
   "execution_count": null,
   "source": "",
   "id": "137279071e79789c"
  }
 ],
 "metadata": {
  "kernelspec": {
   "display_name": "Python 3",
   "language": "python",
   "name": "python3"
  },
  "language_info": {
   "codemirror_mode": {
    "name": "ipython",
    "version": 2
   },
   "file_extension": ".py",
   "mimetype": "text/x-python",
   "name": "python",
   "nbconvert_exporter": "python",
   "pygments_lexer": "ipython2",
   "version": "2.7.6"
  }
 },
 "nbformat": 4,
 "nbformat_minor": 5
}
