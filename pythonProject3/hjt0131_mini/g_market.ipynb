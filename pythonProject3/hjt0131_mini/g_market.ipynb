{
 "cells": [
  {
   "cell_type": "code",
   "id": "initial_id",
   "metadata": {
    "collapsed": true,
    "ExecuteTime": {
     "end_time": "2024-07-19T09:04:26.527323Z",
     "start_time": "2024-07-19T09:03:58.371157Z"
    }
   },
   "source": [
    "import time\n",
    "import bs4\n",
    "import urllib.request\n",
    "\n",
    "marketUrl = \"https://www.gmarket.co.kr/n/best\"\n",
    "htmlObject = urllib.request.urlopen(marketUrl)\n",
    "webPage = htmlObject.read()\n",
    "bsObject = bs4.BeautifulSoup(webPage, 'html.parser')\n",
    "\n",
    "while True :\n",
    "    market_list = bsObject.findAll('div', {'class' :'item'})\n",
    "    num = 1\n",
    "    print(\"@@@@@@@@ 목록 @@@@@@@@\")\n",
    "    for tag in market_list : \n",
    "        subject = tag.find('h2', {'class': 'tit'}).text\n",
    "        no = tag.find(\"p\",{\"class\" : \"no1\"})\n",
    "        price = tag.find(\"div\",{\"class\" : \"s-price\"})\n",
    "        link = tag.find('a', {'class': 'itemname'})['href']\n",
    "        \n",
    "        print('\\t https:'+link, no, price, subject)\n",
    "        num += 1\n",
    "    time.sleep(1)"
   ],
   "outputs": [
    {
     "name": "stdout",
     "output_type": "stream",
     "text": [
      "@@@@@@@@ 목록 @@@@@@@@\n",
      "@@@@@@@@ 목록 @@@@@@@@\n",
      "@@@@@@@@ 목록 @@@@@@@@\n",
      "@@@@@@@@ 목록 @@@@@@@@\n",
      "@@@@@@@@ 목록 @@@@@@@@\n",
      "@@@@@@@@ 목록 @@@@@@@@\n",
      "@@@@@@@@ 목록 @@@@@@@@\n",
      "@@@@@@@@ 목록 @@@@@@@@\n",
      "@@@@@@@@ 목록 @@@@@@@@\n",
      "@@@@@@@@ 목록 @@@@@@@@\n",
      "@@@@@@@@ 목록 @@@@@@@@\n",
      "@@@@@@@@ 목록 @@@@@@@@\n",
      "@@@@@@@@ 목록 @@@@@@@@\n",
      "@@@@@@@@ 목록 @@@@@@@@\n",
      "@@@@@@@@ 목록 @@@@@@@@\n",
      "@@@@@@@@ 목록 @@@@@@@@\n",
      "@@@@@@@@ 목록 @@@@@@@@\n",
      "@@@@@@@@ 목록 @@@@@@@@\n",
      "@@@@@@@@ 목록 @@@@@@@@\n",
      "@@@@@@@@ 목록 @@@@@@@@\n",
      "@@@@@@@@ 목록 @@@@@@@@\n",
      "@@@@@@@@ 목록 @@@@@@@@\n",
      "@@@@@@@@ 목록 @@@@@@@@\n",
      "@@@@@@@@ 목록 @@@@@@@@\n",
      "@@@@@@@@ 목록 @@@@@@@@\n",
      "@@@@@@@@ 목록 @@@@@@@@\n",
      "@@@@@@@@ 목록 @@@@@@@@\n"
     ]
    },
    {
     "ename": "KeyboardInterrupt",
     "evalue": "",
     "output_type": "error",
     "traceback": [
      "\u001B[1;31m---------------------------------------------------------------------------\u001B[0m",
      "\u001B[1;31mKeyboardInterrupt\u001B[0m                         Traceback (most recent call last)",
      "Cell \u001B[1;32mIn[23], line 22\u001B[0m\n\u001B[0;32m     20\u001B[0m     \u001B[38;5;28mprint\u001B[39m(\u001B[38;5;124m'\u001B[39m\u001B[38;5;130;01m\\t\u001B[39;00m\u001B[38;5;124m https:\u001B[39m\u001B[38;5;124m'\u001B[39m\u001B[38;5;241m+\u001B[39mlink, no, price, subject)\n\u001B[0;32m     21\u001B[0m     num \u001B[38;5;241m+\u001B[39m\u001B[38;5;241m=\u001B[39m \u001B[38;5;241m1\u001B[39m\n\u001B[1;32m---> 22\u001B[0m \u001B[43mtime\u001B[49m\u001B[38;5;241;43m.\u001B[39;49m\u001B[43msleep\u001B[49m\u001B[43m(\u001B[49m\u001B[38;5;241;43m1\u001B[39;49m\u001B[43m)\u001B[49m\n",
      "\u001B[1;31mKeyboardInterrupt\u001B[0m: "
     ]
    }
   ],
   "execution_count": 23
  },
  {
   "metadata": {},
   "cell_type": "code",
   "outputs": [],
   "execution_count": null,
   "source": "",
   "id": "8511b0c48bb57154"
  }
 ],
 "metadata": {
  "kernelspec": {
   "display_name": "Python 3",
   "language": "python",
   "name": "python3"
  },
  "language_info": {
   "codemirror_mode": {
    "name": "ipython",
    "version": 2
   },
   "file_extension": ".py",
   "mimetype": "text/x-python",
   "name": "python",
   "nbconvert_exporter": "python",
   "pygments_lexer": "ipython2",
   "version": "2.7.6"
  }
 },
 "nbformat": 4,
 "nbformat_minor": 5
}
