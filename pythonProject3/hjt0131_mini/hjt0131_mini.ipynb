{
 "cells": [
  {
   "cell_type": "code",
   "id": "initial_id",
   "metadata": {
    "collapsed": true,
    "ExecuteTime": {
     "end_time": "2024-07-17T03:09:57.850217Z",
     "start_time": "2024-07-17T03:09:57.843921Z"
    }
   },
   "source": [
    "todayDinnerMenu = [\"김치볶음밥\",\"김치찌개\",\"된장찌개\",\"스팸마요덮밥\",\"청양마요치킨\",\"마라탕\",\"탕후루\",\"집밥\"]\n",
    "print(todayDinnerMenu)"
   ],
   "outputs": [
    {
     "name": "stdout",
     "output_type": "stream",
     "text": [
      "['김치볶음밥', '김치찌개', '된장찌개', '스팸마요덮밥', '청양마요치킨', '마라탕', '탕후루', '집밥']\n"
     ]
    }
   ],
   "execution_count": 1
  },
  {
   "metadata": {
    "ExecuteTime": {
     "end_time": "2024-07-17T03:11:26.453205Z",
     "start_time": "2024-07-17T03:11:26.450176Z"
    }
   },
   "cell_type": "code",
   "source": [
    "dinnerResult = \"집밥\" in todayDinnerMenu\n",
    "print(dinnerResult)"
   ],
   "id": "4a469062e9910f05",
   "outputs": [
    {
     "name": "stdout",
     "output_type": "stream",
     "text": [
      "True\n"
     ]
    }
   ],
   "execution_count": 3
  },
  {
   "metadata": {
    "ExecuteTime": {
     "end_time": "2024-07-17T03:12:05.640187Z",
     "start_time": "2024-07-17T03:12:05.636183Z"
    }
   },
   "cell_type": "code",
   "source": [
    "todayDinnerMenu.remove(\"집밥\")\n",
    "print(todayDinnerMenu)"
   ],
   "id": "65c1366649bd16fe",
   "outputs": [
    {
     "name": "stdout",
     "output_type": "stream",
     "text": [
      "['김치볶음밥', '김치찌개', '된장찌개', '스팸마요덮밥', '청양마요치킨', '마라탕', '탕후루']\n"
     ]
    }
   ],
   "execution_count": 4
  },
  {
   "metadata": {
    "ExecuteTime": {
     "end_time": "2024-07-17T03:13:06.823260Z",
     "start_time": "2024-07-17T03:13:06.819615Z"
    }
   },
   "cell_type": "code",
   "source": [
    "todayDinnerMenu.append(\"참치마요덮밥\")\n",
    "print(todayDinnerMenu)"
   ],
   "id": "aae96007b9b5257e",
   "outputs": [
    {
     "name": "stdout",
     "output_type": "stream",
     "text": [
      "['김치볶음밥', '김치찌개', '된장찌개', '스팸마요덮밥', '청양마요치킨', '마라탕', '탕후루', '참치마요덮밥']\n"
     ]
    }
   ],
   "execution_count": 5
  },
  {
   "metadata": {
    "ExecuteTime": {
     "end_time": "2024-07-17T03:14:47.035453Z",
     "start_time": "2024-07-17T03:14:47.031957Z"
    }
   },
   "cell_type": "code",
   "source": [
    "todayDinnerMenu[5] = \"고추장찌개\"\n",
    "print(todayDinnerMenu)"
   ],
   "id": "5eb7518be925fc52",
   "outputs": [
    {
     "name": "stdout",
     "output_type": "stream",
     "text": [
      "['김치볶음밥', '김치찌개', '된장찌개', '스팸마요덮밥', '청양마요치킨', '고추장찌개', '참치회', '참치마요덮밥']\n"
     ]
    }
   ],
   "execution_count": 7
  },
  {
   "metadata": {
    "ExecuteTime": {
     "end_time": "2024-07-17T03:16:58.318915Z",
     "start_time": "2024-07-17T03:16:58.315512Z"
    }
   },
   "cell_type": "code",
   "source": [
    "todayAddList = [\"삼겹살\",\"안치살\",\"우설\"]\n",
    "todayDinnerMenu.extend(todayAddList)\n",
    "print(todayDinnerMenu)"
   ],
   "id": "9b717be76336cce",
   "outputs": [
    {
     "name": "stdout",
     "output_type": "stream",
     "text": [
      "['김치볶음밥', '김치찌개', '된장찌개', '스팸마요덮밥', '청양마요치킨', '고추장찌개', '참치회', '참치마요덮밥', '삼겹살', '안치살', '우설']\n"
     ]
    }
   ],
   "execution_count": 9
  },
  {
   "metadata": {
    "ExecuteTime": {
     "end_time": "2024-07-17T03:25:10.974101Z",
     "start_time": "2024-07-17T03:25:10.966652Z"
    }
   },
   "cell_type": "code",
   "source": "todayDinnerMenu[0:3]",
   "id": "4c888bddc90fe4f7",
   "outputs": [
    {
     "data": {
      "text/plain": [
       "['김치볶음밥', '김치찌개', '된장찌개']"
      ]
     },
     "execution_count": 10,
     "metadata": {},
     "output_type": "execute_result"
    }
   ],
   "execution_count": 10
  },
  {
   "metadata": {},
   "cell_type": "code",
   "outputs": [],
   "execution_count": null,
   "source": "",
   "id": "afcef94d63aa13a4"
  }
 ],
 "metadata": {
  "kernelspec": {
   "display_name": "Python 3",
   "language": "python",
   "name": "python3"
  },
  "language_info": {
   "codemirror_mode": {
    "name": "ipython",
    "version": 2
   },
   "file_extension": ".py",
   "mimetype": "text/x-python",
   "name": "python",
   "nbconvert_exporter": "python",
   "pygments_lexer": "ipython2",
   "version": "2.7.6"
  }
 },
 "nbformat": 4,
 "nbformat_minor": 5
}
