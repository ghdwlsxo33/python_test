{
 "cells": [
  {
   "cell_type": "code",
   "id": "initial_id",
   "metadata": {
    "collapsed": true,
    "ExecuteTime": {
     "end_time": "2024-07-18T00:42:49.915226Z",
     "start_time": "2024-07-18T00:42:49.911362Z"
    }
   },
   "source": [
    "sampleStr = \"  aAa 오늘 점심 뭐먹지? 비가 안왔으면 좋겠다 aAabBb  \"\n",
    "print(f\"len(sampleStr) :  {len(sampleStr)}\")"
   ],
   "outputs": [
    {
     "name": "stdout",
     "output_type": "stream",
     "text": [
      "len(sampleStr) :  37\n"
     ]
    }
   ],
   "execution_count": 30
  },
  {
   "metadata": {
    "ExecuteTime": {
     "end_time": "2024-07-18T00:42:49.922666Z",
     "start_time": "2024-07-18T00:42:49.919220Z"
    }
   },
   "cell_type": "code",
   "source": "print(sampleStr.upper())",
   "id": "57572bf8de67f5ac",
   "outputs": [
    {
     "name": "stdout",
     "output_type": "stream",
     "text": [
      "  AAA 오늘 점심 뭐먹지? 비가 안왔으면 좋겠다 AAABBB  \n"
     ]
    }
   ],
   "execution_count": 31
  },
  {
   "metadata": {
    "ExecuteTime": {
     "end_time": "2024-07-18T00:42:49.959109Z",
     "start_time": "2024-07-18T00:42:49.955583Z"
    }
   },
   "cell_type": "code",
   "source": "print(sampleStr.lower())",
   "id": "73293e1426549bbc",
   "outputs": [
    {
     "name": "stdout",
     "output_type": "stream",
     "text": [
      "  aaa 오늘 점심 뭐먹지? 비가 안왔으면 좋겠다 aaabbb  \n"
     ]
    }
   ],
   "execution_count": 32
  },
  {
   "metadata": {
    "ExecuteTime": {
     "end_time": "2024-07-18T00:42:49.996054Z",
     "start_time": "2024-07-18T00:42:49.993022Z"
    }
   },
   "cell_type": "code",
   "source": "print(sampleStr.title())",
   "id": "c16bd13a8fcc702a",
   "outputs": [
    {
     "name": "stdout",
     "output_type": "stream",
     "text": [
      "  Aaa 오늘 점심 뭐먹지? 비가 안왔으면 좋겠다 Aaabbb  \n"
     ]
    }
   ],
   "execution_count": 33
  },
  {
   "metadata": {
    "ExecuteTime": {
     "end_time": "2024-07-18T00:42:50.000428Z",
     "start_time": "2024-07-18T00:42:49.997055Z"
    }
   },
   "cell_type": "code",
   "source": "print(sampleStr.capitalize())",
   "id": "5271634f4c37a505",
   "outputs": [
    {
     "name": "stdout",
     "output_type": "stream",
     "text": [
      "  aaa 오늘 점심 뭐먹지? 비가 안왔으면 좋겠다 aaabbb  \n"
     ]
    }
   ],
   "execution_count": 34
  },
  {
   "metadata": {
    "ExecuteTime": {
     "end_time": "2024-07-18T00:42:50.012455Z",
     "start_time": "2024-07-18T00:42:50.009408Z"
    }
   },
   "cell_type": "code",
   "source": "print(sampleStr.count(\"오\"))",
   "id": "43ca184d6a25c624",
   "outputs": [
    {
     "name": "stdout",
     "output_type": "stream",
     "text": [
      "1\n"
     ]
    }
   ],
   "execution_count": 35
  },
  {
   "metadata": {
    "ExecuteTime": {
     "end_time": "2024-07-18T00:42:50.018135Z",
     "start_time": "2024-07-18T00:42:50.015453Z"
    }
   },
   "cell_type": "code",
   "source": "print(sampleStr.count(\"b\"))",
   "id": "b1c7e6e653957bc6",
   "outputs": [
    {
     "name": "stdout",
     "output_type": "stream",
     "text": [
      "2\n"
     ]
    }
   ],
   "execution_count": 36
  },
  {
   "metadata": {
    "ExecuteTime": {
     "end_time": "2024-07-18T00:42:50.028067Z",
     "start_time": "2024-07-18T00:42:50.025119Z"
    }
   },
   "cell_type": "code",
   "source": "print(sampleStr.count(\"a\"))",
   "id": "a3b10220f14526ec",
   "outputs": [
    {
     "name": "stdout",
     "output_type": "stream",
     "text": [
      "4\n"
     ]
    }
   ],
   "execution_count": 37
  },
  {
   "metadata": {
    "ExecuteTime": {
     "end_time": "2024-07-18T00:42:50.050352Z",
     "start_time": "2024-07-18T00:42:50.048017Z"
    }
   },
   "cell_type": "code",
   "source": "print(sampleStr.find(\"b\"))",
   "id": "d75b28561eca7f40",
   "outputs": [
    {
     "name": "stdout",
     "output_type": "stream",
     "text": [
      "32\n"
     ]
    }
   ],
   "execution_count": 38
  },
  {
   "metadata": {
    "ExecuteTime": {
     "end_time": "2024-07-18T00:42:50.065490Z",
     "start_time": "2024-07-18T00:42:50.062322Z"
    }
   },
   "cell_type": "code",
   "source": "print(sampleStr.startswith(\"a\"))",
   "id": "19572a28e49ebff3",
   "outputs": [
    {
     "name": "stdout",
     "output_type": "stream",
     "text": [
      "False\n"
     ]
    }
   ],
   "execution_count": 39
  },
  {
   "metadata": {
    "ExecuteTime": {
     "end_time": "2024-07-18T00:42:50.091037Z",
     "start_time": "2024-07-18T00:42:50.088432Z"
    }
   },
   "cell_type": "code",
   "source": "print(sampleStr.startswith(\"b\"))",
   "id": "3dd2a0a4358a715f",
   "outputs": [
    {
     "name": "stdout",
     "output_type": "stream",
     "text": [
      "False\n"
     ]
    }
   ],
   "execution_count": 40
  },
  {
   "metadata": {
    "ExecuteTime": {
     "end_time": "2024-07-18T00:42:50.126807Z",
     "start_time": "2024-07-18T00:42:50.123951Z"
    }
   },
   "cell_type": "code",
   "source": "print(sampleStr.endswith(\"b\"))",
   "id": "61d13fda168e3e7a",
   "outputs": [
    {
     "name": "stdout",
     "output_type": "stream",
     "text": [
      "False\n"
     ]
    }
   ],
   "execution_count": 41
  },
  {
   "metadata": {
    "ExecuteTime": {
     "end_time": "2024-07-18T00:43:02.610970Z",
     "start_time": "2024-07-18T00:43:02.607667Z"
    }
   },
   "cell_type": "code",
   "source": "print(sampleStr.endswith(\" \"))",
   "id": "b10e3b6d2951a949",
   "outputs": [
    {
     "name": "stdout",
     "output_type": "stream",
     "text": [
      "True\n"
     ]
    }
   ],
   "execution_count": 44
  },
  {
   "metadata": {
    "ExecuteTime": {
     "end_time": "2024-07-18T00:42:50.144732Z",
     "start_time": "2024-07-18T00:42:50.141696Z"
    }
   },
   "cell_type": "code",
   "source": "print(sampleStr.strip())",
   "id": "61f7b5827318bee0",
   "outputs": [
    {
     "name": "stdout",
     "output_type": "stream",
     "text": [
      "aAa 오늘 점심 뭐먹지? 비가 안왔으면 좋겠다 aAabBb\n"
     ]
    }
   ],
   "execution_count": 43
  },
  {
   "metadata": {
    "ExecuteTime": {
     "end_time": "2024-07-18T00:43:25.614654Z",
     "start_time": "2024-07-18T00:43:25.611186Z"
    }
   },
   "cell_type": "code",
   "source": "print(sampleStr.lstrip())",
   "id": "92648dc942f2ea09",
   "outputs": [
    {
     "name": "stdout",
     "output_type": "stream",
     "text": [
      "aAa 오늘 점심 뭐먹지? 비가 안왔으면 좋겠다 aAabBb  \n"
     ]
    }
   ],
   "execution_count": 45
  },
  {
   "metadata": {
    "ExecuteTime": {
     "end_time": "2024-07-18T00:43:34.784559Z",
     "start_time": "2024-07-18T00:43:34.779484Z"
    }
   },
   "cell_type": "code",
   "source": "print(sampleStr.rstrip())",
   "id": "7038225e69e98b8a",
   "outputs": [
    {
     "name": "stdout",
     "output_type": "stream",
     "text": [
      "  aAa 오늘 점심 뭐먹지? 비가 안왔으면 좋겠다 aAabBb\n"
     ]
    }
   ],
   "execution_count": 47
  },
  {
   "metadata": {
    "ExecuteTime": {
     "end_time": "2024-07-18T00:43:59.051642Z",
     "start_time": "2024-07-18T00:43:59.047981Z"
    }
   },
   "cell_type": "code",
   "source": "print(sampleStr.split())",
   "id": "c6493e5495ec01",
   "outputs": [
    {
     "name": "stdout",
     "output_type": "stream",
     "text": [
      "['aAa', '오늘', '점심', '뭐먹지?', '비가', '안왔으면', '좋겠다', 'aAabBb']\n"
     ]
    }
   ],
   "execution_count": 48
  },
  {
   "metadata": {
    "ExecuteTime": {
     "end_time": "2024-07-18T00:44:45.397053Z",
     "start_time": "2024-07-18T00:44:45.393666Z"
    }
   },
   "cell_type": "code",
   "source": "print(sampleStr.isdigit())",
   "id": "58c753f46a9bf60",
   "outputs": [
    {
     "name": "stdout",
     "output_type": "stream",
     "text": [
      "False\n"
     ]
    }
   ],
   "execution_count": 49
  },
  {
   "metadata": {
    "ExecuteTime": {
     "end_time": "2024-07-18T00:45:00.429842Z",
     "start_time": "2024-07-18T00:45:00.426618Z"
    }
   },
   "cell_type": "code",
   "source": "print(sampleStr.islower())",
   "id": "5007df321c1866fe",
   "outputs": [
    {
     "name": "stdout",
     "output_type": "stream",
     "text": [
      "False\n"
     ]
    }
   ],
   "execution_count": 50
  },
  {
   "metadata": {
    "ExecuteTime": {
     "end_time": "2024-07-18T00:45:10.579863Z",
     "start_time": "2024-07-18T00:45:10.575979Z"
    }
   },
   "cell_type": "code",
   "source": "print(sampleStr.isupper())",
   "id": "bc3b6406bd22434",
   "outputs": [
    {
     "name": "stdout",
     "output_type": "stream",
     "text": [
      "False\n"
     ]
    }
   ],
   "execution_count": 51
  },
  {
   "metadata": {
    "ExecuteTime": {
     "end_time": "2024-07-18T01:11:56.962154Z",
     "start_time": "2024-07-18T01:11:56.958095Z"
    }
   },
   "cell_type": "code",
   "source": [
    "f = open(\"yesterday.txt\", \"r\")\n",
    "yesterday_lyric = f.readlines()\n",
    "f.close()\n",
    "print(yesterday_lyric)"
   ],
   "id": "212c7c597233b52",
   "outputs": [
    {
     "name": "stdout",
     "output_type": "stream",
     "text": [
      "['Yesterday all my troubles seemed so far away\\n', \"Now it looks as though they're here to stay\\n\", 'Oh, I believe in yesterday\\n', \"Suddenly I'm not half the man I used to be\\n\", \"There's a shadow hanging over me\\n\", 'Oh, yesterday came suddenly.\\n', \"Why she had to go I don't know,\\n\", \"she wouldn't say.\\n\", 'I said something wrong\\n', 'now I long for yesterday.\\n', 'Yesterday love was such an easy game to play\\n', 'Now I need a place to hide away\\n', 'Oh, I believe in yesterday\\n', \"Why she had to go I don't know\\n\", \"she wouldn't say\\n\", 'I said something wrong\\n', 'now I long for yesterday\\n', 'Yesterday love was such an easy game to play\\n', 'Now I need a place to hide away\\n', 'Oh, I believe in yesterday']\n"
     ]
    }
   ],
   "execution_count": 53
  },
  {
   "metadata": {
    "ExecuteTime": {
     "end_time": "2024-07-18T01:17:11.310464Z",
     "start_time": "2024-07-18T01:17:11.306818Z"
    }
   },
   "cell_type": "code",
   "source": [
    "contents = \"\"\n",
    "for line in yesterday_lyric:\n",
    "    contents = contents + line.strip() + \"\\n\"\n",
    "print(f\"{contents}\\n\")"
   ],
   "id": "f8282086c8b482cc",
   "outputs": [
    {
     "name": "stdout",
     "output_type": "stream",
     "text": [
      "Yesterday all my troubles seemed so far away\n",
      "Now it looks as though they're here to stay\n",
      "Oh, I believe in yesterday\n",
      "Suddenly I'm not half the man I used to be\n",
      "There's a shadow hanging over me\n",
      "Oh, yesterday came suddenly.\n",
      "Why she had to go I don't know,\n",
      "she wouldn't say.\n",
      "I said something wrong\n",
      "now I long for yesterday.\n",
      "Yesterday love was such an easy game to play\n",
      "Now I need a place to hide away\n",
      "Oh, I believe in yesterday\n",
      "Why she had to go I don't know\n",
      "she wouldn't say\n",
      "I said something wrong\n",
      "now I long for yesterday\n",
      "Yesterday love was such an easy game to play\n",
      "Now I need a place to hide away\n",
      "Oh, I believe in yesterday\n",
      "\n",
      "\n"
     ]
    }
   ],
   "execution_count": 55
  },
  {
   "metadata": {
    "ExecuteTime": {
     "end_time": "2024-07-18T01:17:43.814936Z",
     "start_time": "2024-07-18T01:17:43.810974Z"
    }
   },
   "cell_type": "code",
   "source": [
    "n_of_yesterday = contents.upper().count(\"YESTERDAY\")\n",
    "print(f\"결과 값 갯수 : {n_of_yesterday}\")"
   ],
   "id": "f38e66640b68a62c",
   "outputs": [
    {
     "name": "stdout",
     "output_type": "stream",
     "text": [
      "결과 값 갯수 : 9\n"
     ]
    }
   ],
   "execution_count": 57
  },
  {
   "metadata": {
    "ExecuteTime": {
     "end_time": "2024-07-18T01:25:48.060788Z",
     "start_time": "2024-07-18T01:25:48.058036Z"
    }
   },
   "cell_type": "code",
   "source": [
    "from collections import Counter\n",
    "print(f\"Counter(yesterday_lyric) 라이브러리 이용해서, 단어별 빈도 갯수 구하기 : \"\n",
    "      f\"{Counter(contents)}\")"
   ],
   "id": "20eb3152eb3f2e6e",
   "outputs": [
    {
     "name": "stdout",
     "output_type": "stream",
     "text": [
      "Counter(yesterday_lyric) 라이브러리 이용해서, 단어별 빈도 갯수 구하기 : Counter({' ': 106, 'e': 65, 'a': 45, 'o': 39, 's': 35, 'y': 31, 't': 30, 'd': 28, 'h': 27, 'n': 27, 'l': 20, '\\n': 20, 'r': 19, 'w': 17, 'i': 14, 'g': 13, 'I': 13, 'm': 10, 'u': 9, \"'\": 7, 'v': 6, 'b': 5, ',': 5, 'c': 5, 'f': 4, 'O': 4, 'p': 4, 'Y': 3, 'N': 3, 'k': 3, '.': 3, 'W': 2, 'S': 1, 'T': 1})\n"
     ]
    }
   ],
   "execution_count": 62
  },
  {
   "metadata": {
    "ExecuteTime": {
     "end_time": "2024-07-18T01:24:33.078171Z",
     "start_time": "2024-07-18T01:24:33.073537Z"
    }
   },
   "cell_type": "code",
   "source": [
    "text = '''\n",
    "\"Yesterday all my troubles seemed so far away\n",
    "Now it looks as though they're here to stay\n",
    "Oh, I believe in yesterday\n",
    "Suddenly I'm not half the man I used to be\n",
    "There's a shadow hanging over me\n",
    "Oh, yesterday came suddenly.\n",
    "Why she had to go I don't know,\n",
    "she wouldn't say.\n",
    "I said something wrong\n",
    "now I long for yesterday.\n",
    "Yesterday love was such an easy game to play\n",
    "Now I need a place to hide away\n",
    "Oh, I believe in yesterday\n",
    "Why she had to go I don't know\n",
    "she wouldn't say\n",
    "I said something wrong\n",
    "now I long for yesterday\n",
    "Yesterday love was such an easy game to play\n",
    "Now I need a place to hide away\n",
    "Oh, I believe in yesterday\"\n",
    "'''.lower().split()\n",
    "# .lower 소문자로 바꾸고 .split 나누기\n",
    "print(f\"text 결과값: {text}\")\n",
    "print(\"\\n\")\n",
    "print(f\"Counter모듈 이용출력: {Counter(text)}\")"
   ],
   "id": "f19476f600208469",
   "outputs": [
    {
     "name": "stdout",
     "output_type": "stream",
     "text": [
      "text 결과값: ['\"yesterday', 'all', 'my', 'troubles', 'seemed', 'so', 'far', 'away', 'now', 'it', 'looks', 'as', 'though', \"they're\", 'here', 'to', 'stay', 'oh,', 'i', 'believe', 'in', 'yesterday', 'suddenly', \"i'm\", 'not', 'half', 'the', 'man', 'i', 'used', 'to', 'be', \"there's\", 'a', 'shadow', 'hanging', 'over', 'me', 'oh,', 'yesterday', 'came', 'suddenly.', 'why', 'she', 'had', 'to', 'go', 'i', \"don't\", 'know,', 'she', \"wouldn't\", 'say.', 'i', 'said', 'something', 'wrong', 'now', 'i', 'long', 'for', 'yesterday.', 'yesterday', 'love', 'was', 'such', 'an', 'easy', 'game', 'to', 'play', 'now', 'i', 'need', 'a', 'place', 'to', 'hide', 'away', 'oh,', 'i', 'believe', 'in', 'yesterday', 'why', 'she', 'had', 'to', 'go', 'i', \"don't\", 'know', 'she', \"wouldn't\", 'say', 'i', 'said', 'something', 'wrong', 'now', 'i', 'long', 'for', 'yesterday', 'yesterday', 'love', 'was', 'such', 'an', 'easy', 'game', 'to', 'play', 'now', 'i', 'need', 'a', 'place', 'to', 'hide', 'away', 'oh,', 'i', 'believe', 'in', 'yesterday\"']\n",
      "\n",
      "\n",
      "Counter모듈 이용출력: Counter({'i': 12, 'to': 8, 'yesterday': 6, 'now': 5, 'oh,': 4, 'she': 4, 'away': 3, 'believe': 3, 'in': 3, 'a': 3, 'why': 2, 'had': 2, 'go': 2, \"don't\": 2, \"wouldn't\": 2, 'said': 2, 'something': 2, 'wrong': 2, 'long': 2, 'for': 2, 'love': 2, 'was': 2, 'such': 2, 'an': 2, 'easy': 2, 'game': 2, 'play': 2, 'need': 2, 'place': 2, 'hide': 2, '\"yesterday': 1, 'all': 1, 'my': 1, 'troubles': 1, 'seemed': 1, 'so': 1, 'far': 1, 'it': 1, 'looks': 1, 'as': 1, 'though': 1, \"they're\": 1, 'here': 1, 'stay': 1, 'suddenly': 1, \"i'm\": 1, 'not': 1, 'half': 1, 'the': 1, 'man': 1, 'used': 1, 'be': 1, \"there's\": 1, 'shadow': 1, 'hanging': 1, 'over': 1, 'me': 1, 'came': 1, 'suddenly.': 1, 'know,': 1, 'say.': 1, 'yesterday.': 1, 'know': 1, 'say': 1, 'yesterday\"': 1})\n"
     ]
    }
   ],
   "execution_count": 59
  },
  {
   "metadata": {},
   "cell_type": "code",
   "outputs": [],
   "execution_count": null,
   "source": "",
   "id": "62b766a93dfa63fc"
  }
 ],
 "metadata": {
  "kernelspec": {
   "display_name": "Python 3",
   "language": "python",
   "name": "python3"
  },
  "language_info": {
   "codemirror_mode": {
    "name": "ipython",
    "version": 2
   },
   "file_extension": ".py",
   "mimetype": "text/x-python",
   "name": "python",
   "nbconvert_exporter": "python",
   "pygments_lexer": "ipython2",
   "version": "2.7.6"
  }
 },
 "nbformat": 4,
 "nbformat_minor": 5
}
