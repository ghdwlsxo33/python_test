{
 "cells": [
  {
   "cell_type": "code",
   "id": "initial_id",
   "metadata": {
    "collapsed": true,
    "ExecuteTime": {
     "end_time": "2024-07-19T05:27:16.198019Z",
     "start_time": "2024-07-19T05:27:16.191607Z"
    }
   },
   "source": [
    "\t# <div class=\"mduSubjectList\">\t\n",
    "\t# \t<div class=\"mlt01\">\n",
    "\t# \t\t<a href=\"//news.nate.com/view/20240719n16586?mid=n0100\"  class=\"lt1\">\n",
    "\t# \t\t\t<span class=\"ib\">\n",
    "\t# \t\t\t\t<em class=\"mediatype\">\n",
    "\t# \t\t\t\t\t\t\t\t\t\t\t\t<img src=\"//thumbnews.nateimg.co.kr/news90///news.nateimg.co.kr/orgImg/na/2024/07/19/6768831_high.jpg\" width=\"90\" onerror=\"ImgError(this,'//news.nateimg.co.kr/orgImg/na/2024/07/19/6768831_high.jpg','90');\" alt=\"\" />\n",
    "\t# \t\t\t\t\t\t\t\t\t\t\t\t\t\t\t\t</em>\n",
    "\t# \t\t\t</span>\t\t\t\t<span class=\"tb\">\n",
    "\t# \t\t\t\t\t\t\t\t\t<h2 class=\"tit\">尹 탄핵청원 청문회 격돌…고성·몸싸움에 野 의원 부상</h2>\n",
    "\t# \t\t\t\t\t\t\t\t\t\t\t\t\t\t\t\t유상범 국민의힘 간사 등이 19일 오전 서울 여의도 국회 법제사법위원회에서 열린 '윤석열 대통령 탄핵소추안 즉각 발의 요청에 관한 청원 관련 1차 청문회'에서 정청래 위...\n",
    "\t# \t\t\t\t\t\t\t\t\t\t\t\t\t\t</span>\n",
    "\t# \t\t</a>\n",
    "\t# \t\t<span class=\"medium\">뉴스1\t\t\t\t\t\t\t\t\t<em>07-19 13:44</em>\n",
    "\t# \t\t\t\t\t\t</span>\n",
    "\t# \t</div>\n",
    "\t# </div>\t\n",
    "\t# \n",
    "\t# \t\t<div class=\"mduSubjectList\">\t\n",
    "\t# \t<div class=\"mlt01\">\n",
    "\t# \t\t<a href=\"//news.nate.com/view/20240719n08852?mid=n0100\"  class=\"lt1\">\n",
    "\t# \t\t\t<span class=\"ib\">"
   ],
   "outputs": [],
   "execution_count": 1
  },
  {
   "metadata": {
    "ExecuteTime": {
     "end_time": "2024-07-19T08:47:36.045068Z",
     "start_time": "2024-07-19T08:46:35.754743Z"
    }
   },
   "cell_type": "code",
   "source": [
    "import time\n",
    "import bs4\n",
    "import urllib.request\n",
    "\n",
    "# 네이트 실시간 뉴스 정보 -> 콘솔, 조금 코드를 수정해서, mysql 자동으로 저장.\n",
    "\n",
    "nateUrl = \"https://news.nate.com/recent?mid=n0100\"\n",
    "htmlObject = urllib.request.urlopen(nateUrl)\n",
    "webPage = htmlObject.read()\n",
    "bsObject = bs4.BeautifulSoup(webPage, 'html.parser')\n",
    "\n",
    "while True:\n",
    "    # div.mlt01 -> 정보가 20개,\n",
    "    # 각 기사의 모델 , 속성 포맷이 같음.\n",
    "    # tag_list<mlt01>\n",
    "    tag_list = bsObject.findAll('div', {'class': 'mlt01'})\n",
    "\n",
    "    print('###### 실시간 뉴스 속보 #######')\n",
    "    num = 1\n",
    "    for tag in tag_list:\n",
    "        # 각 기사에서 , 특정 정보를 추출하는 작업.\n",
    "        subject = tag.find('h2', {'class': 'tit'}).text\n",
    "        link = tag.find('a', {'class': 'lt1'})['href']\n",
    "        pressAndDate = tag.find('span', {'class': 'medium'}).text\n",
    "        pressAndDate.replace('\\t', ' ')\n",
    "        pressAndDate.replace('\\n', '')\n",
    "\n",
    "        if len(pressAndDate.split()) == 3:\n",
    "            press, pDate, pTime = pressAndDate.split()\n",
    "        elif len(pressAndDate.split()) == 4:\n",
    "            press1, press2, pDate, pTime = pressAndDate.split()\n",
    "            press = press1+press2\n",
    "        else:\n",
    "            continue\n",
    "\n",
    "        print('(', num, ')', subject)\n",
    "        print('\\t https:'+link, press, pDate, pTime)\n",
    "        num += 1\n",
    "\n",
    "    time.sleep(60)"
   ],
   "id": "16dd95aa078523a9",
   "outputs": [
    {
     "name": "stdout",
     "output_type": "stream",
     "text": [
      "###### 실시간 뉴스 속보 #######\n",
      "( 1 ) \"폰 확인…어디까지\" 임성근, 청문회서도 검사와 '문자 자문'\n",
      "\t https://news.nate.com/view/20240719n27233?mid=n0100 \"폰 확인…어디까지\" 임성근, 청문회서도 검사와 '문자 자문'\n",
      "( 2 ) HD현대, 지멘스와 디지털 제조혁신 협력 강화\n",
      "\t https://news.nate.com/view/20240719n24825?mid=n0100 HD현대, 지멘스와 디지털 제조혁신 협력 강화\n",
      "( 3 ) 폭우에도 거리는 일터였다…위험한 출근 멈추지 못하는 이유\n",
      "\t https://news.nate.com/view/20240719n25531?mid=n0100 폭우에도 거리는 일터였다…위험한 출근 멈추지 못하는 이유\n",
      "( 4 ) [단독] 임성근, 검사 사촌동생과 '이첩-회수' 때 20번 연락\n",
      "\t https://news.nate.com/view/20240719n24637?mid=n0100 [단독] 임성근, 검사 사촌동생과 '이첩-회수' 때 20번 연락\n",
      "( 5 ) \"19살인데 담배 피워\"…日체조요정, 올림픽 앞두고 퇴출 당했다\n",
      "\t https://news.nate.com/view/20240719n26665?mid=n0100 \"19살인데 담배 피워\"…日체조요정, 올림픽 앞두고 퇴출 당했다\n",
      "( 6 ) '1년 쉬겠다' 전공의 다수, 하반기 모집 소수…충원 쉽지 않을 듯\n",
      "\t https://news.nate.com/view/20240719n23441?mid=n0100 '1년 쉬겠다' 전공의 다수, 하반기 모집 소수…충원 쉽지 않을 듯\n",
      "( 7 ) MS 서비스 장애로 전세계 통신 대란…한국·美·호주·유럽 등 공항·방송·은행 먹통\n",
      "\t https://news.nate.com/view/20240719n27269?mid=n0100 MS 서비스 장애로 전세계 통신 대란…한국·美·호주·유럽 등 공항·방송·은행 먹통\n",
      "( 8 ) '물벼락' 장맛비 또 올라온다…경기남부·충청으로 북상중\n",
      "\t https://news.nate.com/view/20240719n21965?mid=n0100 '물벼락' 장맛비 또 올라온다…경기남부·충청으로 북상중\n",
      "( 9 ) 해양 생물 다양성의 위기, \"보호 공감대부터 형성해야!\" [해양기자단]\n",
      "\t https://news.nate.com/view/20240719n27504?mid=n0100 해양 생물 다양성의 위기, \"보호 공감대부터 형성해야!\" [해양기자단]\n",
      "( 10 ) \"축적된 이슈로 인해\" 문체부, KFA 감사 확정…감독 선임 절차예산 관련 등 들여다본다\n",
      "\t https://news.nate.com/view/20240719n26435?mid=n0100 \"축적된 이슈로 인해\" 문체부, KFA 감사 확정…감독 선임 절차예산 관련 등 들여다본다\n",
      "( 11 ) 유니스, 틀을 깨는 젠지 공주들…바비 인형 비주얼\n",
      "\t https://news.nate.com/view/20240719n27583?mid=n0100 유니스, 틀을 깨는 젠지 공주들…바비 인형 비주얼\n",
      "( 12 ) [영상] '윤 탄핵' 청원 청문회, 전현희 얼굴·허리 다쳐…시작부터 격돌\n",
      "\t https://news.nate.com/view/20240719n17151?mid=n0100 [영상] '윤 탄핵' 청원 청문회, 전현희 얼굴·허리 다쳐…시작부터 격돌\n",
      "( 13 ) 한우 두당 사육비 1000만원···\"치솟는 사료값 감당하려 막일\"\n",
      "\t https://news.nate.com/view/20240719n27581?mid=n0100 한우 두당 사육비 1000만원···\"치솟는 사료값 감당하려 막일\"\n",
      "( 14 ) '민간인' 국방장관의 거수경례, 사소한 문제 아니다\n",
      "\t https://news.nate.com/view/20240719n07028?mid=n0100 '민간인' 국방장관의 거수경례, 사소한 문제 아니다\n",
      "( 15 ) 스트레이 키즈 창빈, '시크' (ATE 기자간담회) [HD포토]\n",
      "\t https://news.nate.com/view/20240719n27578?mid=n0100 스트레이 키즈 창빈, '시크' (ATE 기자간담회) [HD포토]\n",
      "( 16 ) 백호 사장, 별내선 점검…\"승객 혼잡·환승불편 최소화에 노력\"\n",
      "\t https://news.nate.com/view/20240719n26938?mid=n0100 백호 사장, 별내선 점검…\"승객 혼잡·환승불편 최소화에 노력\"\n",
      "( 17 ) 중국 중산층 지갑 닫자…코스맥스 이달 26% 급락\n",
      "\t https://news.nate.com/view/20240719n27576?mid=n0100 중국 중산층 지갑 닫자…코스맥스 이달 26% 급락\n",
      "( 18 ) \"불화·분열 치유\"···승기 잡은 트럼프, 통합 외쳤다\n",
      "\t https://news.nate.com/view/20240719n27575?mid=n0100 \"불화·분열 치유\"···승기 잡은 트럼프, 통합 외쳤다\n",
      "( 19 ) [AsiaNet] Guanxian Forges New Strength of Digital Intelligence + in Industries\n",
      "\t https://news.nate.com/view/20240719n27573?mid=n0100 [AsiaNet] Guanxian Forges New Strength of Digital Intelligence + in Industries\n",
      "( 20 ) 비행기 못 뜨고 생방송 막히고…전세계 MS發 '대혼란' [종합]\n",
      "\t https://news.nate.com/view/20240719n27021?mid=n0100 비행기 못 뜨고 생방송 막히고…전세계 MS發 '대혼란' [종합]\n"
     ]
    },
    {
     "ename": "KeyboardInterrupt",
     "evalue": "",
     "output_type": "error",
     "traceback": [
      "\u001B[1;31m---------------------------------------------------------------------------\u001B[0m",
      "\u001B[1;31mKeyboardInterrupt\u001B[0m                         Traceback (most recent call last)",
      "Cell \u001B[1;32mIn[3], line 30\u001B[0m\n\u001B[0;32m     27\u001B[0m     \u001B[38;5;28mprint\u001B[39m(\u001B[38;5;124m'\u001B[39m\u001B[38;5;130;01m\\t\u001B[39;00m\u001B[38;5;124m https:\u001B[39m\u001B[38;5;124m'\u001B[39m\u001B[38;5;241m+\u001B[39mlink, subject)\n\u001B[0;32m     28\u001B[0m     num \u001B[38;5;241m+\u001B[39m\u001B[38;5;241m=\u001B[39m \u001B[38;5;241m1\u001B[39m\n\u001B[1;32m---> 30\u001B[0m \u001B[43mtime\u001B[49m\u001B[38;5;241;43m.\u001B[39;49m\u001B[43msleep\u001B[49m\u001B[43m(\u001B[49m\u001B[38;5;241;43m60\u001B[39;49m\u001B[43m)\u001B[49m\n",
      "\u001B[1;31mKeyboardInterrupt\u001B[0m: "
     ]
    }
   ],
   "execution_count": 3
  },
  {
   "metadata": {},
   "cell_type": "code",
   "source": "",
   "id": "8ec2953eec7be762",
   "outputs": [],
   "execution_count": null
  }
 ],
 "metadata": {
  "kernelspec": {
   "display_name": "Python 3",
   "language": "python",
   "name": "python3"
  },
  "language_info": {
   "codemirror_mode": {
    "name": "ipython",
    "version": 2
   },
   "file_extension": ".py",
   "mimetype": "text/x-python",
   "name": "python",
   "nbconvert_exporter": "python",
   "pygments_lexer": "ipython2",
   "version": "2.7.6"
  }
 },
 "nbformat": 4,
 "nbformat_minor": 5
}
