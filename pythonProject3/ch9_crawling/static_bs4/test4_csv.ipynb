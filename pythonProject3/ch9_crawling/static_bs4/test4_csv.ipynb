{
 "cells": [
  {
   "cell_type": "code",
   "id": "initial_id",
   "metadata": {
    "collapsed": true,
    "ExecuteTime": {
     "end_time": "2024-07-19T02:28:35.042133Z",
     "start_time": "2024-07-19T02:28:25.017861Z"
    }
   },
   "source": [
    "import csv\n",
    "import time\n",
    "import datetime\n",
    "\n",
    "csvName = \"C:/Users/it/PycharmProjects/pythonProject3/ch9_crawling/static_bs4/SampleCsv_datetime_240719.csv\"\n",
    "\n",
    "with open(csvName, \"w\", newline=\"\",encoding=\"UTF-8\") as csvfile:\n",
    "    csvwriter = csv.writer(csvfile)\n",
    "    csvwriter.writerow([\"연월일\",\"시분초\"])\n",
    "    \n",
    "count = 10\n",
    "while count > 0:\n",
    "    count -= 1\n",
    "    \n",
    "    now = datetime.datetime.now()\n",
    "    yymmdd = now.strftime(\"%Y-%m-%d\")\n",
    "    hhmmss = now.strftime(\"%H:%M:%S\")\n",
    "    time_list = [yymmdd,hhmmss]\n",
    "    print(time_list)\n",
    "    \n",
    "    with open(csvName, \"a\", newline=\"\",encoding=\"UTF-8\") as csvfile:\n",
    "        csvwriter = csv.writer(csvfile)\n",
    "        csvwriter.writerow(time_list)\n",
    "        \n",
    "    time.sleep(1)"
   ],
   "outputs": [
    {
     "name": "stdout",
     "output_type": "stream",
     "text": [
      "['2024-07-19', '11:28:25']\n",
      "['2024-07-19', '11:28:26']\n",
      "['2024-07-19', '11:28:27']\n",
      "['2024-07-19', '11:28:28']\n",
      "['2024-07-19', '11:28:29']\n",
      "['2024-07-19', '11:28:30']\n",
      "['2024-07-19', '11:28:31']\n",
      "['2024-07-19', '11:28:32']\n",
      "['2024-07-19', '11:28:33']\n",
      "['2024-07-19', '11:28:34']\n"
     ]
    }
   ],
   "execution_count": 2
  },
  {
   "metadata": {
    "ExecuteTime": {
     "end_time": "2024-07-19T03:33:55.015757Z",
     "start_time": "2024-07-19T03:33:44.757712Z"
    }
   },
   "cell_type": "code",
   "source": [
    "import csv\n",
    "import time\n",
    "import datetime\n",
    "import bs4\n",
    "import urllib.request\n",
    "\n",
    "csvName = \"C:/Users/it/PycharmProjects/pythonProject3/ch9_crawling/static_bs4/news_weather_datetime_240719.csv\"\n",
    "\n",
    "with open(csvName, \"w\", newline=\"\",encoding=\"UTF-8\") as csvfile:\n",
    "    csvwriter = csv.writer(csvfile)\n",
    "    csvwriter.writerow([\"연월일\",\"시분초\",\"온도\",\"습도\",\"강수량\",\"풍향\"])\n",
    "    \n",
    "news_weather_nate_url = \"https://news.nate.com/weather?areaCode=11H20201\"\n",
    "web_page = urllib.request.urlopen(news_weather_nate_url)\n",
    "bsObject = bs4.BeautifulSoup(web_page,'html.parser')\n",
    "\n",
    "count = 10\n",
    "\n",
    "while count > 0 :\n",
    "    count -= 1\n",
    "    tag_right_today = bsObject.find('div',{\"class\" : 'right_today'})\n",
    "    tag_right_today.find(\"p\",{\"class\" : \"celsius\"})\n",
    "    celsius = tag_right_today.find(\"p\",{\"class\" : \"celsius\"}).text\n",
    "    humidity_tag = tag_right_today.find(\"p\",{\"class\" : \"humidity\"})\n",
    "    humidity_tag_em = humidity_tag.find(\"em\").text\n",
    "    rainfall_tag = tag_right_today.find(\"p\",{\"class\" : \"rainfall\"})\n",
    "    rainfall_tag_em = rainfall_tag.find(\"em\").text\n",
    "    wind_tag = tag_right_today.find(\"p\",{\"class\" : \"wind\"})\n",
    "    wind_tag_em = wind_tag.find(\"em\").text\n",
    "    wind_tag_em_strip = wind_tag_em.strip()\n",
    "    # print(celsius)\n",
    "    # print(humidity_tag_em)\n",
    "    # print(rainfall_tag_em)\n",
    "    # print(wind_tag_em_strip)\n",
    "    \n",
    "    now = datetime.datetime.now()\n",
    "    yymmdd = now.strftime(\"%Y-%m-%d\")\n",
    "    hhmmss = now.strftime(\"%H:%M:%S\")\n",
    "    \n",
    "    weather_list = [yymmdd,hhmmss,celsius,humidity_tag_em,rainfall_tag_em,wind_tag_em_strip]\n",
    "    with open(csvName, \"a\", newline=\"\",encoding=\"UTF-8\") as csvfile:\n",
    "        csvwriter = csv.writer(csvfile)\n",
    "        csvwriter.writerow(weather_list)\n",
    "        \n",
    "    time.sleep(1)\n",
    "    print(weather_list)"
   ],
   "id": "bb652b7c62fce431",
   "outputs": [
    {
     "name": "stdout",
     "output_type": "stream",
     "text": [
      "['2024-07-19', '12:33:44', '26℃', '90%', '5.0mm', '서남서 3.8 m/s']\n",
      "['2024-07-19', '12:33:45', '26℃', '90%', '5.0mm', '서남서 3.8 m/s']\n",
      "['2024-07-19', '12:33:46', '26℃', '90%', '5.0mm', '서남서 3.8 m/s']\n",
      "['2024-07-19', '12:33:47', '26℃', '90%', '5.0mm', '서남서 3.8 m/s']\n",
      "['2024-07-19', '12:33:48', '26℃', '90%', '5.0mm', '서남서 3.8 m/s']\n",
      "['2024-07-19', '12:33:49', '26℃', '90%', '5.0mm', '서남서 3.8 m/s']\n",
      "['2024-07-19', '12:33:50', '26℃', '90%', '5.0mm', '서남서 3.8 m/s']\n",
      "['2024-07-19', '12:33:52', '26℃', '90%', '5.0mm', '서남서 3.8 m/s']\n",
      "['2024-07-19', '12:33:53', '26℃', '90%', '5.0mm', '서남서 3.8 m/s']\n",
      "['2024-07-19', '12:33:54', '26℃', '90%', '5.0mm', '서남서 3.8 m/s']\n"
     ]
    }
   ],
   "execution_count": 17
  },
  {
   "metadata": {},
   "cell_type": "code",
   "outputs": [],
   "execution_count": null,
   "source": "",
   "id": "4a5252e2fd1d8698"
  }
 ],
 "metadata": {
  "kernelspec": {
   "display_name": "Python 3",
   "language": "python",
   "name": "python3"
  },
  "language_info": {
   "codemirror_mode": {
    "name": "ipython",
    "version": 2
   },
   "file_extension": ".py",
   "mimetype": "text/x-python",
   "name": "python",
   "nbconvert_exporter": "python",
   "pygments_lexer": "ipython2",
   "version": "2.7.6"
  }
 },
 "nbformat": 4,
 "nbformat_minor": 5
}
